{
 "cells": [
  {
   "cell_type": "code",
   "execution_count": 1,
   "metadata": {},
   "outputs": [],
   "source": [
    "import torch\n",
    "import numpy as np\n",
    "import sympy\n",
    "from core.hamiltonian import ChainPendulum, EuclideanAndGravityDynamics, Animation2d\n",
    "from torchdiffeq import odeint\n",
    "from IPython.display import HTML\n",
    "%matplotlib inline\n",
    "%load_ext autoreload\n",
    "\n",
    "%autoreload 2"
   ]
  },
  {
   "cell_type": "code",
   "execution_count": 2,
   "metadata": {},
   "outputs": [],
   "source": [
    "# points = torch.cat([torch.tensor([[0.],[0.]]),ic[0,0].T],dim=1)\n",
    "# plt.plot(*points)\n",
    "# plt.quiver(*ic[0,0].T,*ic[0,1].T)\n",
    "# # plt.ylim(-3,0.5)\n",
    "# # plt.xlim(-2,2.5)\n",
    "# plt.axes().set_aspect('equal', 'datalim')"
   ]
  },
  {
   "cell_type": "code",
   "execution_count": 3,
   "metadata": {},
   "outputs": [],
   "source": [
    "body = ChainPendulum(3)\n",
    "z0 = body.sample_initial_conditions(1)\n",
    "z0[:,1] = body.M@z0[:,1]\n",
    "bs,_,n,d = z0.shape\n",
    "z0 = z0.reshape(bs,2,n*d).reshape(bs,2*n*d)"
   ]
  },
  {
   "cell_type": "code",
   "execution_count": 4,
   "metadata": {},
   "outputs": [
    {
     "data": {
      "text/plain": [
       "torch.Size([1, 12])"
      ]
     },
     "execution_count": 4,
     "metadata": {},
     "output_type": "execute_result"
    }
   ],
   "source": [
    "z0.shape"
   ]
  },
  {
   "cell_type": "code",
   "execution_count": 5,
   "metadata": {},
   "outputs": [],
   "source": [
    "ts = torch.linspace(0,1,100)"
   ]
  },
  {
   "cell_type": "code",
   "execution_count": 6,
   "metadata": {},
   "outputs": [],
   "source": [
    "dynamics = EuclideanAndGravityDynamics(body)\n",
    "with torch.no_grad():\n",
    "    zs = odeint(dynamics, z0, ts, rtol=1e-4, method='rk4').permute(1, 0, 2)"
   ]
  },
  {
   "cell_type": "code",
   "execution_count": 7,
   "metadata": {},
   "outputs": [
    {
     "data": {
      "text/plain": [
       "torch.Size([1, 100, 12])"
      ]
     },
     "execution_count": 7,
     "metadata": {},
     "output_type": "execute_result"
    }
   ],
   "source": [
    "zs.shape"
   ]
  },
  {
   "cell_type": "code",
   "execution_count": 8,
   "metadata": {},
   "outputs": [],
   "source": [
    "xt = zs.reshape(1,len(ts),2,3,2)[0,:,0].permute(1,2,0)"
   ]
  },
  {
   "cell_type": "code",
   "execution_count": 9,
   "metadata": {},
   "outputs": [],
   "source": [
    "#xt"
   ]
  },
  {
   "cell_type": "code",
   "execution_count": 10,
   "metadata": {},
   "outputs": [],
   "source": [
    "# x = xt[:,0,1]\n",
    "# y = xt[:,1,1]\n",
    "# plt.plot(x,y)"
   ]
  },
  {
   "cell_type": "code",
   "execution_count": 11,
   "metadata": {},
   "outputs": [
    {
     "data": {
      "text/html": [
       "<video width=\"432\" height=\"288\" controls autoplay loop>\n",
       "  <source type=\"video/mp4\" src=\"data:video/mp4;base64,AAAAHGZ0eXBNNFYgAAACAGlzb21pc28yYXZjMQAAAAhmcmVlAAAcBm1kYXQAAAKgBgX//5zcRem9\n",
       "5tlIt5Ys2CDZI+7veDI2NCAtIGNvcmUgMTUyIC0gSC4yNjQvTVBFRy00IEFWQyBjb2RlYyAtIENv\n",
       "cHlsZWZ0IDIwMDMtMjAxNyAtIGh0dHA6Ly93d3cudmlkZW9sYW4ub3JnL3gyNjQuaHRtbCAtIG9w\n",
       "dGlvbnM6IGNhYmFjPTEgcmVmPTMgZGVibG9jaz0xOjA6MCBhbmFseXNlPTB4MzoweDExMyBtZT1o\n",
       "ZXggc3VibWU9NyBwc3k9MSBwc3lfcmQ9MS4wMDowLjAwIG1peGVkX3JlZj0xIG1lX3JhbmdlPTE2\n",
       "IGNocm9tYV9tZT0xIHRyZWxsaXM9MSA4eDhkY3Q9MSBjcW09MCBkZWFkem9uZT0yMSwxMSBmYXN0\n",
       "X3Bza2lwPTEgY2hyb21hX3FwX29mZnNldD0tMiB0aHJlYWRzPTkgbG9va2FoZWFkX3RocmVhZHM9\n",
       "MSBzbGljZWRfdGhyZWFkcz0wIG5yPTAgZGVjaW1hdGU9MSBpbnRlcmxhY2VkPTAgYmx1cmF5X2Nv\n",
       "bXBhdD0wIGNvbnN0cmFpbmVkX2ludHJhPTAgYmZyYW1lcz0zIGJfcHlyYW1pZD0yIGJfYWRhcHQ9\n",
       "MSBiX2JpYXM9MCBkaXJlY3Q9MSB3ZWlnaHRiPTEgb3Blbl9nb3A9MCB3ZWlnaHRwPTIga2V5aW50\n",
       "PTI1MCBrZXlpbnRfbWluPTI1IHNjZW5lY3V0PTQwIGludHJhX3JlZnJlc2g9MCByY19sb29rYWhl\n",
       "YWQ9NDAgcmM9Y3JmIG1idHJlZT0xIGNyZj0yMy4wIHFjb21wPTAuNjAgcXBtaW49MCBxcG1heD02\n",
       "OSBxcHN0ZXA9NCBpcF9yYXRpbz0xLjQwIGFxPTE6MS4wMACAAAAAWmWIhAF/1Fdre1u/YLj4YWZE\n",
       "4DhdgaM0WvfYeuUBfH8r29NVvgwEAAADAAHY/lMAg19kSxfdZuhdAL6rI345oBCSM55UEAoVuUH0\n",
       "KQErsDqpSB8WwAAAAwA4oQAAASpBmiRsVwAAafxUb27+4gbmThdib9OCVpRY5ymZvFbPiInGoR9O\n",
       "euwtDIyALtyVy3mlX/cF4uLly1hfodftBrpz/XJB/NBSSOgaEzDy/ytH3E/rCd0RT20+ASrkTd7P\n",
       "W3xvZHmiVxg0f10ZBkOULjwNH4iQlItcAqXc5B7BQUyKQmPhDL95vVBLrWM0ZZJdwkmi9FoBxPl3\n",
       "u7hHIKj8o1M2CTBIhbOnu+VppNAbvq7+5v9lXu9RxJ8UrZmcEz7UYJteWq8AtK6ya2KnBMLO4o6z\n",
       "lKGpoaBCz+O5H628Hs67LKJkfRNHyFGJ/cr601P1r56g91QZfxFsQeO+CRhu3E/S9jSJC7Tufk14\n",
       "FsKLq7pYJGCulBEAiMav2QUYx1WWziq8RzJyw5i55P+UAAAAM0GeQniFPwLGtXsfr/6MtWCUFDkB\n",
       "Q3siUh4o/OeZPrcksK58f4CwBk5W56n+UAOyq1xqQQAAABcBnmF0Qx8C+jaSgez1dY8xJUfXvs87\n",
       "oAAAACYBnmNqQx8DAluVyjtRrV82owduswRUUvhLCnVLVYMOuEpYwxZDuwAAALJBmmdJqEFomUwK\n",
       "/wAAaYlUb16yBblJSU2soFOj6dpj+YbcuCzpFhLKYZyoZiSvfBVQh2tSJXTxSnK6+F5R86cn/d/9\n",
       "XqwR+XcTJw06pKmXhc9HapVhiR8H0RK1AgrFS3DgiCSXbysOgtRen0wk/ByykdQw+RmTcOxJFsvk\n",
       "VKK4wz8a+WcoLy6ni94VpY1hGQfyxX/Bqw2Ng6TrKE8jCXfSvWnu+0K9P+/7vrua+AJkMWrhAAAA\n",
       "HEGehUURLCn/AsaO44D1iT+CDTfellnJBoRYGpEAAAAYAZ6makMfAwbf/qvXwHgnGsW9N3Sf4iXh\n",
       "AAAAa0GaqkmoQWyZTAr/AABpi0x46gWtiP/TCFykJZjZJD2lFmR/A0tbE0+gbazS3jaWAyikPc43\n",
       "uA2OHrQ0o8i68STx8OARuoCHlM8U0XxBjYEtnrE9YR24OxbgoIl+hYmNVApUAdgKFsR0YrbbAAAA\n",
       "IEGeyEUVLCn/AsawGzxQGIoo7enFBGHP9VXL6m8RNhGfAAAAHwGe6WpDHwMG3/6r15B6EF0dzPZm\n",
       "Zu5QD3f9xsuahg0AAACNQZruSahBbJlMCv8AAGmJuxnrq2H/En89+bJBzvdsOuJu5mEdLOK/T3CZ\n",
       "YlQt7CUBOq2aGAlmUq4xDDp+RVFnw6rtjoWtobKCepwOe1cfmnkAUzHhF6IxAWKzso7mM78DWJLQ\n",
       "p69D8cmKvwnqa5WKwRMadE6oaXLfSFfzcLzUpVa8gsJmIQSw7VGFTgcQAAAAJUGfDEUVLCn/Arra\n",
       "ojzX2lpwiCjxEe/S+PdUwneSCQuFmNEAW0AAAAAcAZ8rdEMfAvgQNniPBNsQ3qAuGYllNJsw8TYT\n",
       "cQAAAB4Bny1qQx8C7kdp6+dDKAWcRZVJx3lg52fa5F0IfMEAAABnQZsxSahBbJlMCv8AADRtfmqg\n",
       "v5ZWHHzhcB78XIjpENTF5BDyUEI86ahEw8SEg0jfedNhmxAJb8DF1Fl7dgXVB6Kom4D+sE/y5abc\n",
       "4u9w7hqabJwV920GQG4HSJ4STSfV2hCE5+3heQAAAB9Bn09FFSwp/wKy6zSWZSz99h1eTHZ0cKiE\n",
       "yGs6gjAgAAAAGwGfcGpDHwLuR2oKECbqeN4+5CjBDBIoLryBvQAAAFxBm3RJqEFsmUwK/wAANG5N\n",
       "ttM0jUd9QE8qQC/xbIaZYf7vxx7sr0Tn1sFXXXfsK2+sHxhlOi7hQ25RoCzBNPytBTnn0N161LnA\n",
       "VCv06YjIyvCi0iFOgrrVXfchQQAAABxBn5JFFSwp/wKy6zPJF8pN5uowCppnhk2/XR3QAAAAHgGf\n",
       "s2pDHwLuR5P/gpgrq8Nd9LTVx6Oa5C8M17diBgAAAJFBm7dJqEFsmUwK/wAANGqi2UM3q04DA6lM\n",
       "8FVZzofeHvRXznzaEb0RdY22WwCjvOTweV3Bn2SxLnpQrsnfVRP5yWXHjebxCCABeh+an7zUk9lt\n",
       "y2tn7kaoR4RhyXDoDzYzqrCYHWuRh3yKDG5ZA6Kc4iZvfFtlIdt5twdVmU2lGW9niNNOQU9l1Uyx\n",
       "91Q2QMuLAAAAJUGf1UUVLCn/ArLrC00mnnONMuYWievW11SlFhV3bGkqNl7VXcAAAAAbAZ/2akMf\n",
       "Au4/3L6wbRMYnYbCJ+iA8NFf/C7hAAAAikGb+UmoQWyZTBRNfwAANGAuoYq33juBE/H+ZSwZN/68\n",
       "rN13eB7DhqP3eyDmIlnDuYAPeQyobMaC7XM2txHFOUatUXZnZH75o2iiJ71quGhYyhnZ/tixFm/f\n",
       "XwXWmWJvHLcvgAe7NWawPFk75X+XlWAkuDFU/gZSSj3fo2Llp7nmUIJR/ogP8dkcCQAAABcBnhhq\n",
       "Qx8C8WuHYGuULohYAokFuMDAgAAAALxBmhtJ4QpSZTBS1wAAGqGQubmIkb0BnBfnTwWLhXhGySuZ\n",
       "yhmKF597eZeRmNibioNOLZaQI/0fLFWlPfqMEVpodh8F5kQ2TwpH6X4XufshJiyiXbtVLrLv7nQe\n",
       "V3tpRnXNiuEC/8d5U+6UVzyWkNfNd8id4sUgKqtrxz4Vnw6SXzlbf+aZ1o7p2LanuMCtWgWT8YC3\n",
       "QcSHIchCodtP0BvCNDr1E+YH4wMTUBE5lnnT+omi8uFKB0p2gz3cCQAAACcBnjpqQx8C8w1AFDT9\n",
       "HjcI8DJX/K4HKW+crLgkkUHtvAbqj3xA3oAAAAA4QZo8SeEOiZTArwAANj/8jQ4W9Ibt4O4Pzx0z\n",
       "gHvLFvqCH3drsuXPP9BvBKIekwtRV2pqtz+QasEAAAB7QZpdSeEPJlMCvwAAGtVHk+Stb7gDdDQN\n",
       "RyG1cgS0p7MHk9gf7Uk6nS1u3mtVvdmhbD2mq0o6qNuGDGPIXUunKtpC+E4TqSQyk5Qc8+5po7+l\n",
       "dl4zOLa4HrrFrW28fWZQPatwxYWakbLRRxkO7fQvsfIup8cvybx6Y0rhAAAAv0GaYUnhDyZTAr8A\n",
       "ABqluLssJAuGeQUjmSOxv0aZZlBZMk0ydhHD8ekYm1L0efYVVVmL4nS46jmLZ2+99UjqamdWS0Ny\n",
       "vzuzGdLtCmjJFazRrccVzuhWG5hRaPtxkBGaIEq22Zak8tNtEOVmzrmEgtpN3pvEMNSvFkGSdg1J\n",
       "u0ngFGKK/ASXliBo0b5HVLWPmCWPl94krLFvgQ3iMbuAJvXCloTOtIJZfk1OH7wuFKUqeFsOlKqG\n",
       "yspZ0OWWeCBSAAAAOkGen0URPCn/ArSxQ2GDGtqm80juiT/iG9GRGCVIaN0P1pxVVTGQDLyyTVkY\n",
       "z3+rzdZ3+utqwAnGDFgAAAAhAZ6+dEMfAub8oUNspf2jm7wGYOvjt0lNWgk1tG5XoSH/AAAAHQGe\n",
       "oGpDHwLuO+s4+Ja+aUaOJOaBFcDtOtvFg+HpAAAApUGapUmoQWiZTAr/AAANoMjF5g7sedXEMMK8\n",
       "hCUMcK2NvAX4AG8B2LMgbyj1ElqINd/cuoG881X4KuQnjTR4l3WWt8762VSDgIgjvsl3wmV7HLcO\n",
       "7db5oLYYpDZz+uBhqIzfx132fTiExOga6HICu1qFtC2ZT4xLUnwrFfO3F51Q/ryiXNcG+iJfoGBB\n",
       "Ntx6mW7fKYOUUW3LnCPbJTSsfMhr3Icl6QAAACpBnsNFESwp/wKy6BLwwwrCWLsgYDQX+itLlB/b\n",
       "t3U2h0BA2kqY5tI2e6YAAAAXAZ7idEMfAub2D0VXhxhrY6jGl4ycPmEAAAAfAZ7kakMfAu47/UUh\n",
       "XPlV4MgFbXGwAnYBStdkC/oaEQAAAFhBmuZJqEFsmUwK/wAAGi+z7u3uKyOb9eG1rJez7g1jOk9v\n",
       "MMCQnTwur+sG/VtxkQ7iOqyAedbiCIS5ZFev74O+rUmBUZ3XYyobhjllZFjnIXeUBx4IWqBxAAAA\n",
       "bEGbCEnhClJlMFFS1wAADaHFq9dwdWPhez90cXFvVni/3Q+bjjUWovh3+RlH3w81tqWtkRw5Xv7R\n",
       "je6vV62QCG1dcvSZ+4G1WiyjJJZ1lG1fI5ZIrOXYpfSgbLoDulk+mstTk/wInMbpBP8BQQAAACYB\n",
       "nydqQx8C8w0/ITHeibw42TyxDKvUBfSQmtGMvb4KFREa23q4gAAAALNBmypJ4Q6JlMFE1wAADdig\n",
       "FDav2P/bTZaVqC5FXLShH6xdqcOCZUXau8m9kQV8aSnTMAvqS9ZPie9de+v/z4cf4NaqmKLVXwM3\n",
       "AGDuh55J8QG/emcpDdNc6YK03Qu5LqTxSZWwpoTV7zUkIL0xZAmdrhHG+79+ciqRixAIndisKb7S\n",
       "otIMqbp+jXojBa+9Ph6/fjot41cYQwGHcnxZtWVuu+ozSecJX6GoK+Kxw8mL7bSy9AAAACEBn0lq\n",
       "Qx8C8w1AJnYXFDMwpqNFDYQxnwo38ATmiBi3RjUAAABLQZtMSeEPJlMFPX8AAA2iyMmfX+qxx+ej\n",
       "wQuxp2RB3TJQXV9GAwm7Y5siHJMVKqgO0y4op9/PGVnP4z96wTtzqZmvK6oTMbG24erFAAAAFgGf\n",
       "a2pDHwLzDUApMMXacSMMjDm4F7UAAABMQZtuSeEPJlMFPX8AAA2hvCOgPVyJlvQKpVfdmszEcXlo\n",
       "iD36mqCloc424CQFPMMn/b3danM7ixQdVcktP8+S6fmbtai4Pd2hUopsQQAAABgBn41qQx8C8w0/\n",
       "IpGyzz4FS2iX7iyczIEAAAC0QZuSSeEPJlMCvwAADdZNN5celr5mkhq2MyDHsjoxxWwrsiU5bG/W\n",
       "qm+gNEpxkYF2eeHYQnGlVQgiyKgV4bd1MadH9zV3MUlcWL0SkQ8xac7NI2dXDlyw2x92Loc23QEU\n",
       "YGBosSzdpuAHQ2ovCxP5Faq8N3LfIwjAGYOnqjSG+CqfSj9hCBZRaorNdBPlrdnAotxUHVUQq3TN\n",
       "qodE4y270DYc7bPAmUvTFavFX1rATHDOvCTBAAAAMkGfsEURPCn/ArSxQ381i7GfppwtqcJgFOOd\n",
       "gtMtK4xEoKwTTM8lP3R0vxsl6w238DegAAAAGQGfz3RDHwLm9fmriVja2q8qhr0zCQaiOOAAAAAd\n",
       "AZ/RakMfAu5ALh26xS+ZmLBco9ITQLMk3ElQoIEAAABwQZvUSahBaJlMFPX/AAAbv/5UXLSqQkyf\n",
       "xHpMS0nFUONfSQkRCGD8n8GrdlueZXpcJYTWSVhCNR2HHaQ2GTpKJUWIvsWTDp25f/2zTSlB3ODa\n",
       "DIQdQ1OTjwZWRgnPLTbT6syMQ7VyA27TU4faSHGgfwAAABwBn/NqQx8C8WuOTrW9T61uiefwnI3q\n",
       "4JGYHcpIAAAAsEGb+EnhClJlMCv/AAAOB/h2vMHnV+l5SnF91X6MoMCcoLERcxdmfoIF4701x0zZ\n",
       "5xKnfBAgfHbqnf6fTVi48XzTklF4PZHnLZjxCni1L7BsfBCX0+rq5F5yLCwZDiP6XyDwiHP0DaDI\n",
       "hkHhAdJ9CDYL3Ik24KCrHU7Em/bzWkkEnZcjISJ0cTkiGlKj332OTHEdBMcKzSWfTfvo1XGvzr+y\n",
       "yUe8yJku0/RdzniaBO/PAAAAKEGeFkU0TCn/ArPGQhDqy+M5z3WCBn5GW8bN2CiDMEHT0gl3T6NG\n",
       "HoEAAAAWAZ41dEMfAub1+aTmbiY+WVVf7Yg/GwAAABoBnjdqQx8C7jwdRSsF09YIElSQ+KYku0cb\n",
       "swAAAJZBmjxJqEFomUwK/wAADfG2Zjuiiq3rop8ZPeZyyjPmMM/7aVISfoEJImGyac3cI+/IwcuG\n",
       "rUDqXxZeR5T2yp4kss3VnKXN/IyiG9zYH+YILYELw0SeVcJQkzz8D8AEXNQUBSiAVIzMtk9RaL7+\n",
       "O9EBZCGPeTR727KqI04fdHsiM7XiP3JybIQakCyU3W0HGt2qzu0zT3AAAAAzQZ5aRREsKf8Csugd\n",
       "3v/3it+M9CW3AUXJ287H3q7xV6XyG8LmJA3vCZdNzc0Jc6vFdPTBAAAAFgGeeXRDHwLm9jqr/iP7\n",
       "zZ2CaiXw3SAAAAAWAZ57akMfAu48Io4p6RiO9LkU9oGGPQAAAIVBmn9JqEFsmUwK/wAADgoYyCaM\n",
       "f/3daPidz3FE7vMIiCx2zO4uZZb0QhgfRsYylQdMahNm7RgT2blpqRZoIv66ZJSeyZ027upUviXQ\n",
       "sVSTR1oqPZ0gXGx98fMtOa4C/ASmGz7NI3uyGcA1yvBPFIUzqb9Gaj2V99HCZhojP1NGV52vCuTB\n",
       "AAAAJUGenUUVLCn/ArLoHedv56r8/ZLbqIGFmHO6uOGsqbtxB+WCNmAAAAAeAZ6+akMfAu48Io4r\n",
       "wir1Eg6dM7eZOsazcFQEBG1AAAAAgkGaokmoQWyZTAr/AAAOKbUlRp717lrayXu1quSPSIUOBSbd\n",
       "vsxn5V5Oi2TAXmWn7TqLYc7yvgbQdL46IHrJczWEi4McU9/aD53NxDtIKP8R54EvrUS5cv/b9stb\n",
       "wnVr6Wuoq2AiL9JYHUe2IE8Rtc8SbOTTqZoD7qXhdwcJAZeKsukAAAAlQZ7ARRUsKf8Csugd7WuY\n",
       "iNxSj6OSCY8sTYiz/++VdVMetNA5UAAAABgBnuFqQx8C7jwlrpwWg3cjQz1bAmdGgYEAAABVQZrk\n",
       "SahBbJlMFEyfAAAaZYfy2YNnNty/M2Cyd0ijgG6TjjOJRkd/RKSO6LgKBOHuS86C7cXp2As5FuN5\n",
       "BLvGNyv4sACyWtIvy4urUZp+8kBhM5ha4AAAABkBnwNqQx8C8Wof1cvFzSMNY23vGKw/jC7/AAAA\n",
       "L0GbBUnhClJlMCT/AAAWubM+e+wMSF0DSa7WNPpCyxCnZU5uyA+O7o4kwaY0LiaZAAAAOEGbJ0nh\n",
       "DomUwU0TJwAAGmWH8riO349WmFGyH/WMeuSmESkP69gRQ9YfCLnn37GjgKRdnjIDdcWBAAAAGwGf\n",
       "RmpDHwLzDT8lIyJvga28Dy4D8AABgUIrPwAAAHNBm0pJ4Q8mUwJPAAAaX4rjAl6PAxnijSM7+6KQ\n",
       "+1iipUoO29QK5lVDKzGVsLe0Wzzrzl5NGGzptQHRrH131UR1pkJVUlg0MhxOT7EyxxcNQy9rycL8\n",
       "A8Z4sCoOwI/V1a+o7/uinu1K8r2hFu66k8PXG0diAAAAI0GfaEURPCn/ArSxQhLCPfLganhCMvuB\n",
       "gRPCR7i2rGEXbAiVAAAAIQGfiWpDHwLuPBRHaOZmR/bSwX8uom1noiToSD4kdS3vQQAAADpBm4tJ\n",
       "qEFomUwJPwAAGmWHtzB1wwnsIaVE3LM75SAY/XattI3JAbu6Odrd1nwC6ADXM/AVYwCY2LGAAAAA\n",
       "Q0Gbr0nhClJlMCb/AAA0bm3ca4exOxRHB0f1Kcb/WWpm1oUdDaj59iCmP7JL8xbSP5BxZAD7a9mx\n",
       "nxYd1127+Yt+OMAAAAAcQZ/NRTRMKf8Cs8ZCFdaTtkNnGhlnPuuTzRudgQAAACMBn+x0Qx8C5vI6\n",
       "1aKl/ReExJ1F/sAybINWNjYhvCAmmRT6YQAAABYBn+5qQx8C7jwUdDQfp2Pge9Nie9QRAAAAPEGb\n",
       "8EmoQWiZTAm/AAAaf8eWIBE57Q8jy7qR30/Er9x1kf3bcRRv4ZB9vnW07ZLwo5Wzt36My0MOfHgA\n",
       "8AAAAEhBmhRJ4QpSZTAiPwAAY/wkGdnOMCf11FRiW/F3V59SlLuUmsrmAkJjYEnC/LDnTozBhKOA\n",
       "o2MD92iG0wkQFU++NGFM+ovgwZ8AAAAbQZ4yRTRMKf8Cs8ZBKJgvmETGk5Dz/PvqlnAhAAAAGwGe\n",
       "UXRDHwLm9jUZy3EjWyCVTX1xjjDEeTRtQAAAABgBnlNqQx8C7joNh5huVgAqhw1tegD158AAAABR\n",
       "QZpXSahBaJlMCI8AAGQIrhNo0/wmLJi3XYP8sSPvN2pOgE3hgAwvH1YTAli8npyvpkoWGapBs2Wv\n",
       "//M9z8hlg4zfXy/36HT4q7KPglq2Pd2fAAAAHEGedUURLCn/ArLoHFez3ZKVWpSAUfuIqhsK0uAA\n",
       "AAAUAZ6WakMfAu48FHQ0u4TvSzgNkHEAAAAgQZqZSahBbJlMFExXAAAwzA4hz859SdtuPU87T0J2\n",
       "gQ0AAAAZAZ64akMfAvFpXaWcWgjUngnoRx379FQE3AAAAC9Bmr1J4QpSZTAjPwABOYhwsuUPttUQ\n",
       "z5Ie5o3eYixoEXnG/G+vwl5xsFeYr2gPgQAAABtBnttFNEwp/wKzxkIXKVpDwiVy/efGKKbe//IA\n",
       "AAAXAZ76dEMfAubyo1X05nFNVMMSmO0O+ZUAAAAUAZ78akMfAu48FI2pcSkyoUaqHHEAAAAnQZrg\n",
       "SahBaJlMCEP/AACkXFHm5+XvEepBOKw8DE9y/KaUvhcNB+GAAAAAGkGfHkURLCn/ArLni1ckoZVh\n",
       "0ZgBDW7Eve6AAAAAJAGfP2pDHwLuPBR0NMDGecnLxZVtH809J5qs/Wu5Xd/0IbJ0wQAAABpBmyNJ\n",
       "qEFsmUwIY/8AAV8IyVvfA1N3YAPUhgAAACRBn0FFFSwp/wKy54rXLbr0ACK8jsRi+bcsyzifM8v9\n",
       "1J7wkbEAAAATAZ9iakMfAu46CJHw05KJUKSPSAAAB31tb292AAAAbG12aGQAAAAAAAAAAAAAAAAA\n",
       "AAPoAAAM5AABAAABAAAAAAAAAAAAAAAAAQAAAAAAAAAAAAAAAAAAAAEAAAAAAAAAAAAAAAAAAEAA\n",
       "AAAAAAAAAAAAAAAAAAAAAAAAAAAAAAAAAAAAAAACAAAGp3RyYWsAAABcdGtoZAAAAAMAAAAAAAAA\n",
       "AAAAAAEAAAAAAAAM5AAAAAAAAAAAAAAAAAAAAAAAAQAAAAAAAAAAAAAAAAAAAAEAAAAAAAAAAAAA\n",
       "AAAAAEAAAAABsAAAASAAAAAAACRlZHRzAAAAHGVsc3QAAAAAAAAAAQAADOQAAAQgAAEAAAAABh9t\n",
       "ZGlhAAAAIG1kaGQAAAAAAAAAAAAAAAAAAD6AAADOQFXEAAAAAAAtaGRscgAAAAAAAAAAdmlkZQAA\n",
       "AAAAAAAAAAAAAFZpZGVvSGFuZGxlcgAAAAXKbWluZgAAABR2bWhkAAAAAQAAAAAAAAAAAAAAJGRp\n",
       "bmYAAAAcZHJlZgAAAAAAAAABAAAADHVybCAAAAABAAAFinN0YmwAAACyc3RzZAAAAAAAAAABAAAA\n",
       "omF2YzEAAAAAAAAAAQAAAAAAAAAAAAAAAAAAAAABsAEgAEgAAABIAAAAAAAAAAEAAAAAAAAAAAAA\n",
       "AAAAAAAAAAAAAAAAAAAAAAAAAAAAAAAY//8AAAAwYXZjQwFkABX/4QAXZ2QAFazZQbCWhAAAAwCE\n",
       "AAAfQDxYtlgBAAZo6+PLIsAAAAAcdXVpZGtoQPJfJE/FujmlG88DI/MAAAAAAAAAGHN0dHMAAAAA\n",
       "AAAAAQAAAGQAAAIQAAAAFHN0c3MAAAAAAAAAAQAAAAEAAALQY3R0cwAAAAAAAABYAAAAAQAABCAA\n",
       "AAABAAAKUAAAAAEAAAQgAAAAAQAAAAAAAAABAAACEAAAAAEAAAhAAAAAAgAAAhAAAAABAAAIQAAA\n",
       "AAIAAAIQAAAAAQAAClAAAAABAAAEIAAAAAEAAAAAAAAAAQAAAhAAAAABAAAIQAAAAAIAAAIQAAAA\n",
       "AQAACEAAAAACAAACEAAAAAEAAAhAAAAAAgAAAhAAAAABAAAGMAAAAAEAAAIQAAAAAQAABjAAAAAB\n",
       "AAACEAAAAAIAAAQgAAAAAQAAClAAAAABAAAEIAAAAAEAAAAAAAAAAQAAAhAAAAABAAAKUAAAAAEA\n",
       "AAQgAAAAAQAAAAAAAAABAAACEAAAAAEAAAQgAAAAAQAABjAAAAABAAACEAAAAAEAAAYwAAAAAQAA\n",
       "AhAAAAABAAAGMAAAAAEAAAIQAAAAAQAABjAAAAABAAACEAAAAAEAAApQAAAAAQAABCAAAAABAAAA\n",
       "AAAAAAEAAAIQAAAAAQAABjAAAAABAAACEAAAAAEAAApQAAAAAQAABCAAAAABAAAAAAAAAAEAAAIQ\n",
       "AAAAAQAAClAAAAABAAAEIAAAAAEAAAAAAAAAAQAAAhAAAAABAAAIQAAAAAIAAAIQAAAAAQAACEAA\n",
       "AAACAAACEAAAAAEAAAYwAAAAAQAAAhAAAAABAAAEIAAAAAEAAAYwAAAAAQAAAhAAAAABAAAIQAAA\n",
       "AAIAAAIQAAAAAQAABCAAAAABAAAKUAAAAAEAAAQgAAAAAQAAAAAAAAABAAACEAAAAAEAAAQgAAAA\n",
       "AQAAClAAAAABAAAEIAAAAAEAAAAAAAAAAQAAAhAAAAABAAAIQAAAAAIAAAIQAAAAAQAABjAAAAAB\n",
       "AAACEAAAAAEAAApQAAAAAQAABCAAAAABAAAAAAAAAAEAAAIQAAAAAQAACEAAAAACAAACEAAAAAEA\n",
       "AAhAAAAAAgAAAhAAAAAcc3RzYwAAAAAAAAABAAAAAQAAAGQAAAABAAABpHN0c3oAAAAAAAAAAAAA\n",
       "AGQAAAMCAAABLgAAADcAAAAbAAAAKgAAALYAAAAgAAAAHAAAAG8AAAAkAAAAIwAAAJEAAAApAAAA\n",
       "IAAAACIAAABrAAAAIwAAAB8AAABgAAAAIAAAACIAAACVAAAAKQAAAB8AAACOAAAAGwAAAMAAAAAr\n",
       "AAAAPAAAAH8AAADDAAAAPgAAACUAAAAhAAAAqQAAAC4AAAAbAAAAIwAAAFwAAABwAAAAKgAAALcA\n",
       "AAAlAAAATwAAABoAAABQAAAAHAAAALgAAAA2AAAAHQAAACEAAAB0AAAAIAAAALQAAAAsAAAAGgAA\n",
       "AB4AAACaAAAANwAAABoAAAAaAAAAiQAAACkAAAAiAAAAhgAAACkAAAAcAAAAWQAAAB0AAAAzAAAA\n",
       "PAAAAB8AAAB3AAAAJwAAACUAAAA+AAAARwAAACAAAAAnAAAAGgAAAEAAAABMAAAAHwAAAB8AAAAc\n",
       "AAAAVQAAACAAAAAYAAAAJAAAAB0AAAAzAAAAHwAAABsAAAAYAAAAKwAAAB4AAAAoAAAAHgAAACgA\n",
       "AAAXAAAAFHN0Y28AAAAAAAAAAQAAACwAAABidWR0YQAAAFptZXRhAAAAAAAAACFoZGxyAAAAAAAA\n",
       "AABtZGlyYXBwbAAAAAAAAAAAAAAAAC1pbHN0AAAAJal0b28AAAAdZGF0YQAAAAEAAAAATGF2ZjU4\n",
       "LjIwLjEwMA==\n",
       "\">\n",
       "  Your browser does not support the video tag.\n",
       "</video>"
      ],
      "text/plain": [
       "<IPython.core.display.HTML object>"
      ]
     },
     "execution_count": 11,
     "metadata": {},
     "output_type": "execute_result"
    },
    {
     "data": {
      "image/png": "[encoded data removed]",
      "text/plain": [
       "<Figure size 432x288 with 1 Axes>"
      ]
     },
     "metadata": {
      "needs_background": "light"
     },
     "output_type": "display_data"
    }
   ],
   "source": [
    "HTML(Animation2d(xt).animate().to_html5_video())"
   ]
  },
  {
   "cell_type": "code",
   "execution_count": 17,
   "metadata": {},
   "outputs": [
    {
     "ename": "NameError",
     "evalue": "name 'A' is not defined",
     "output_type": "error",
     "traceback": [
      "\u001b[0;31m---------------------------------------------------------------------------\u001b[0m",
      "\u001b[0;31mNameError\u001b[0m                                 Traceback (most recent call last)",
      "\u001b[0;32m<ipython-input-17-3e752c3d6dc6>\u001b[0m in \u001b[0;36m<module>\u001b[0;34m\u001b[0m\n\u001b[0;32m----> 1\u001b[0;31m \u001b[0mA\u001b[0m\u001b[0;34m.\u001b[0m\u001b[0manimate\u001b[0m\u001b[0;34m(\u001b[0m\u001b[0;34m)\u001b[0m\u001b[0;34m\u001b[0m\u001b[0;34m\u001b[0m\u001b[0m\n\u001b[0m",
      "\u001b[0;31mNameError\u001b[0m: name 'A' is not defined"
     ]
    }
   ],
   "source": [
    "A.animate()"
   ]
  },
  {
   "cell_type": "code",
   "execution_count": null,
   "metadata": {},
   "outputs": [],
   "source": [
    "plt.plot(xt)"
   ]
  }
 ],
 "metadata": {
  "kernelspec": {
   "display_name": "Python 3",
   "language": "python",
   "name": "python3"
  },
  "language_info": {
   "codemirror_mode": {
    "name": "ipython",
    "version": 3
   },
   "file_extension": ".py",
   "mimetype": "text/x-python",
   "name": "python",
   "nbconvert_exporter": "python",
   "pygments_lexer": "ipython3",
   "version": "3.7.4"
  }
 },
 "nbformat": 4,
 "nbformat_minor": 2
}
