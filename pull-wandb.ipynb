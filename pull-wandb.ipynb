{
 "cells": [
  {
   "cell_type": "code",
   "execution_count": 9,
   "metadata": {},
   "outputs": [],
   "source": [
    "import numpy as np"
   ]
  },
  {
   "cell_type": "code",
   "execution_count": 1,
   "metadata": {},
   "outputs": [],
   "source": [
    "import wandb\n",
    "import os\n",
    "import pickle\n",
    "\n",
    "\n",
    "def get_history(user=\"kealexanderwang\", project=\"constrained-pnns\", query={},\n",
    "                **kwargs):\n",
    "    api = wandb.Api()\n",
    "    runs = api.runs(path=f\"{user}/{project}\", filters=query)\n",
    "    dataframes = [run.history(**kwargs) for run in runs]\n",
    "    return list(zip(runs, dataframes))\n",
    "\n",
    "\n",
    "def download_files(user=\"kealexanderwang\", project=\"constrained-pnns\",\n",
    "                   query={}, save_dir=\".\", **kwargs):\n",
    "    \"\"\"\n",
    "    Download the files of each run into a new directory for the run.\n",
    "    Also saves the config dict of the run.\n",
    "    \"\"\"\n",
    "    if not os.path.isdir(save_dir):\n",
    "        os.mkdir(save_dir)\n",
    "\n",
    "    api = wandb.Api()\n",
    "    runs = api.runs(path=f\"{user}/{project}\", filters=query)\n",
    "    for run in runs:\n",
    "        name = run.name\n",
    "        config = run.config\n",
    "\n",
    "        run_dir = os.path.join(save_dir, name)\n",
    "        if not os.path.isdir(run_dir):\n",
    "            os.mkdir(run_dir)\n",
    "\n",
    "        with open(os.path.join(run_dir, \"config.pkl\"), \"wb\") as h:\n",
    "            pickle.dump(config, h)\n",
    "\n",
    "        files = run.files()\n",
    "        for file in files:\n",
    "            file.download(root=run_dir)\n",
    "    return"
   ]
  },
  {
   "cell_type": "code",
   "execution_count": 2,
   "metadata": {},
   "outputs": [
    {
     "name": "stderr",
     "output_type": "stream",
     "text": [
      "/home/marc/anaconda3/envs/default/lib/python3.7/site-packages/tensorboard/compat/tensorflow_stub/dtypes.py:541: FutureWarning: Passing (type, 1) or '1type' as a synonym of type is deprecated; in a future version of numpy, it will be understood as (type, (1,)) / '(1,)type'.\n",
      "  _np_qint8 = np.dtype([(\"qint8\", np.int8, 1)])\n",
      "/home/marc/anaconda3/envs/default/lib/python3.7/site-packages/tensorboard/compat/tensorflow_stub/dtypes.py:542: FutureWarning: Passing (type, 1) or '1type' as a synonym of type is deprecated; in a future version of numpy, it will be understood as (type, (1,)) / '(1,)type'.\n",
      "  _np_quint8 = np.dtype([(\"quint8\", np.uint8, 1)])\n",
      "/home/marc/anaconda3/envs/default/lib/python3.7/site-packages/tensorboard/compat/tensorflow_stub/dtypes.py:543: FutureWarning: Passing (type, 1) or '1type' as a synonym of type is deprecated; in a future version of numpy, it will be understood as (type, (1,)) / '(1,)type'.\n",
      "  _np_qint16 = np.dtype([(\"qint16\", np.int16, 1)])\n",
      "/home/marc/anaconda3/envs/default/lib/python3.7/site-packages/tensorboard/compat/tensorflow_stub/dtypes.py:544: FutureWarning: Passing (type, 1) or '1type' as a synonym of type is deprecated; in a future version of numpy, it will be understood as (type, (1,)) / '(1,)type'.\n",
      "  _np_quint16 = np.dtype([(\"quint16\", np.uint16, 1)])\n",
      "/home/marc/anaconda3/envs/default/lib/python3.7/site-packages/tensorboard/compat/tensorflow_stub/dtypes.py:545: FutureWarning: Passing (type, 1) or '1type' as a synonym of type is deprecated; in a future version of numpy, it will be understood as (type, (1,)) / '(1,)type'.\n",
      "  _np_qint32 = np.dtype([(\"qint32\", np.int32, 1)])\n",
      "/home/marc/anaconda3/envs/default/lib/python3.7/site-packages/tensorboard/compat/tensorflow_stub/dtypes.py:550: FutureWarning: Passing (type, 1) or '1type' as a synonym of type is deprecated; in a future version of numpy, it will be understood as (type, (1,)) / '(1,)type'.\n",
      "  np_resource = np.dtype([(\"resource\", np.ubyte, 1)])\n"
     ]
    }
   ],
   "source": [
    "from pytorch_lightning import Trainer\n",
    "from pl_trainer import DynamicsModel, SaveTestLogCallback\n",
    "import os\n",
    "import pprint \n",
    "\n",
    "def load_model_from_run(run, save_dir=\"/tmp\"):\n",
    "    name = run.display_name\n",
    "    ckpt_save_path = os.path.join(save_dir, name)\n",
    "    if not os.path.exists(ckpt_save_path):\n",
    "        os.makedirs(ckpt_save_path)\n",
    "     \n",
    "    ckpts = sorted([f for f in run.files() if \"checkpoints\" in f.name])\n",
    "    if len(ckpts) == 0:\n",
    "        raise RuntimeError(f\"Run {name} has no checkpoints!\")\n",
    "    # pick latest checkpoint if available\n",
    "    last_ckpt = ckpts[-1]\n",
    "    last_ckpt.download(replace=True, root=ckpt_save_path)\n",
    "        \n",
    "    ckpt_path = os.path.join(ckpt_save_path, last_ckpt.name)\n",
    "    # Uncommet if you need the trainer\n",
    "    # trainer = Trainer(resume_from_checkpoint=ckpt_path,logger=False)\n",
    "    pl_trainer = None\n",
    "    pl_model = DynamicsModel.load_from_checkpoint(ckpt_path)\n",
    "\n",
    "    pp = pprint.PrettyPrinter(indent=4)\n",
    "    print(\"Model Hyperparameters:\")\n",
    "    pp.pprint(vars(pl_model.hparams))\n",
    "    return pl_trainer, pl_model"
   ]
  },
  {
   "cell_type": "code",
   "execution_count": 3,
   "metadata": {},
   "outputs": [
    {
     "name": "stderr",
     "output_type": "stream",
     "text": [
      "wandb: ERROR Not authenticated.  Copy a key from https://app.wandb.ai/authorize\n"
     ]
    },
    {
     "name": "stdout",
     "output_type": "stream",
     "text": [
      "API Key: ········\n"
     ]
    },
    {
     "name": "stderr",
     "output_type": "stream",
     "text": [
      "wandb: Appending key for api.wandb.ai to your netrc file: /home/marc/.netrc\n",
      "/home/marc/anaconda3/envs/default/lib/python3.7/site-packages/torch/serialization.py:593: SourceChangeWarning: source code of class 'pl_trainer.DynamicsModel' has changed. you can retrieve the original source code by accessing the object's source attribute or set `torch.nn.Module.dump_patches = True` and use the patch tool to revert the changes.\n",
      "  warnings.warn(msg, SourceChangeWarning)\n"
     ]
    },
    {
     "name": "stdout",
     "output_type": "stream",
     "text": [
      "100\n",
      "200\n",
      "300\n",
      "400\n",
      "500\n",
      "600\n",
      "700\n",
      "800\n",
      "900\n",
      "1000\n",
      "CH ignores angular_dims\n",
      "CH currently assumes potential energy depends only on q\n",
      "CH currently assumes time independent Hamiltonian\n",
      "CH assumes positions q are in Cartesian coordinates\n",
      "Model Hyperparameters:\n",
      "{   'angular_dims': range(0, 3),\n",
      "    'batch_size': 800,\n",
      "    'body_args': [3],\n",
      "    'body_class': 'ChainPendulum',\n",
      "    'callbacks': [   <pytorch_lightning.callbacks.lr_logger.LearningRateLogger object at 0x7f2e750a1f90>,\n",
      "                     <pl_trainer.SaveTestLogCallback object at 0x7f2e750a1910>,\n",
      "                     <pytorch_lightning.callbacks.progress.ProgressBar object at 0x7f2e750a1750>],\n",
      "    'check_val_every_n_epoch': 10,\n",
      "    'chunk_len': 5,\n",
      "    'ckpt_dir': '/home/alex_w/repos/hamiltonian-biases/experiments/ChainPendulumn3m1l1/CLNN/wandb/run-20200506_050956-d5so9hyq/constrained-pnns/version_d5so9hyq/checkpoints',\n",
      "    'dataset_class': 'RigidBodyDataset',\n",
      "    'debug': False,\n",
      "    'dof_ndim': 2,\n",
      "    'dt': 0.1,\n",
      "    'euclidean': True,\n",
      "    'exp_dir': '/home/alex_w/repos/hamiltonian-biases/experiments/ChainPendulumn3m1l1/CLNN',\n",
      "    'fast_dev_run': False,\n",
      "    'gpus': 1,\n",
      "    'hidden_size': 200,\n",
      "    'integration_time': 10.0,\n",
      "    'logger': <pytorch_lightning.loggers.wandb.WandbLogger object at 0x7f2e7502ce50>,\n",
      "    'lr': 0.01,\n",
      "    'max_epochs': 200,\n",
      "    'n_epochs': 200,\n",
      "    'n_epochs_per_val': 10,\n",
      "    'n_gpus': 1,\n",
      "    'n_hidden': 200,\n",
      "    'n_layers': 3,\n",
      "    'n_test': 100,\n",
      "    'n_train': 800,\n",
      "    'n_val': 100,\n",
      "    'network_class': 'CLNN',\n",
      "    'no_lr_sched': False,\n",
      "    'num_layers': 3,\n",
      "    'optimizer_class': 'AdamW',\n",
      "    'regen': False,\n",
      "    'seed': 0,\n",
      "    'tags': ['tune', '3pendulum'],\n",
      "    'tol': 1e-07,\n",
      "    'weight_decay': 0.0001,\n",
      "    'wgrad': True}\n"
     ]
    }
   ],
   "source": [
    "# See https://docs.wandb.com/library/reference/wandb_api for how to write queries\n",
    "query = {\"tags\": {\"$eq\": \"3pendulum\"}}\n",
    "runs, histories = zip(*get_history(query=query))\n",
    "pl_trainer, pl_model = load_model_from_run(runs[1])"
   ]
  },
  {
   "cell_type": "code",
   "execution_count": 34,
   "metadata": {},
   "outputs": [],
   "source": [
    "pl_model.model = pl_model.model.cuda().float()\n",
    "for mb in pl_model.test_dataloader():\n",
    "    z0, T = mb[0]  # assume timesteps evenly spaced for now\n",
    "    z0 = z0.cuda().float()\n",
    "    break\n",
    "results = pl_model.compare_rollouts(z0,pl_model.hparams.integration_time,pl_model.hparams.dt,1e-5)"
   ]
  },
  {
   "cell_type": "code",
   "execution_count": 35,
   "metadata": {},
   "outputs": [],
   "source": [
    "(pred_zts,true_zts,pert_zts,\n",
    " rel_err_pred_true,abs_err_pred_true,rel_err_pert_true,abs_err_pert_true) = results"
   ]
  },
  {
   "cell_type": "code",
   "execution_count": 40,
   "metadata": {},
   "outputs": [],
   "source": [
    "def compare_rollouts(self, z0, integration_time, dt, tol, pert_eps=1e-4):\n",
    "    ts = torch.arange(0.0, integration_time, dt, device=z0.device, dtype=z0.dtype)\n",
    "    pred_zts = self.rollout(z0, ts, tol, \"dopri5\")#.cpu()\n",
    "    bs, Nlong, *rest = pred_zts.shape\n",
    "    body = self.datasets[\"test\"].body\n",
    "    if not self.hparams.euclidean:  # convert to euclidean for body to integrate\n",
    "        z0 = body.body2globalCoords(z0)\n",
    "        flat_pred = body.body2globalCoords(pred_zts.reshape(bs * Nlong, *rest))\n",
    "        pred_zts = flat_pred.reshape(bs, Nlong, *flat_pred.shape[1:])\n",
    "    # (bs, n_steps, 2, n_dof, d)\n",
    "    #true_zts = body.integrate(z0, ts, tol=tol)\n",
    "#         perturbation = pert_eps * torch.randn_like(z0) # perturbation does not respect constraints\n",
    "#         z0_perturbed = project_onto_constraints(body.body_graph,z0 + perturbation,tol=1e-7) #project\n",
    "#         pert_zts = body.integrate(z0_perturbed, ts, tol=tol)\n",
    "    return pred_zts#,true_zts"
   ]
  },
  {
   "cell_type": "code",
   "execution_count": null,
   "metadata": {},
   "outputs": [
    {
     "name": "stdout",
     "output_type": "stream",
     "text": [
      "finished 0.001\n",
      "finished 0.0001\n",
      "finished 1e-05\n"
     ]
    }
   ],
   "source": [
    "pred_zts_all = []\n",
    "tols = [1e-3,1e-4,1e-5,1e-6,1e-7]\n",
    "for tol in tols:\n",
    "    pred_zts_all.append(compare_rollouts(pl_model,z0,pl_model.hparams.integration_time,pl_model.hparams.dt,tol))\n",
    "    print(f\"finished {tol}\")"
   ]
  },
  {
   "cell_type": "code",
   "execution_count": 36,
   "metadata": {},
   "outputs": [],
   "source": [
    "T = torch.arange(0.0, pl_model.hparams.integration_time,pl_model.hparams.dt)"
   ]
  },
  {
   "cell_type": "code",
   "execution_count": 37,
   "metadata": {},
   "outputs": [],
   "source": [
    "from biases.systems.rigid_body import rigid_Phi,project_onto_constraints\n",
    "from oil.utils.utils import Eval\n",
    "import torch\n",
    "\n",
    "\n",
    "xt_flat, vt_flat = pred_zts.reshape(-1,*pred_zts.shape[2:]).cpu().detach().unbind(1)\n",
    "cons = rigid_Phi(pl_model.body.body_graph,xt_flat, vt_flat)\n",
    "mse = (cons**2).sum(-1).sum(-1).sqrt().reshape(*pred_zts.shape[:2])\n",
    "mean = mse.mean(0)\n",
    "std = mse.std(0)\n"
   ]
  },
  {
   "cell_type": "code",
   "execution_count": 38,
   "metadata": {},
   "outputs": [
    {
     "data": {
      "text/plain": [
       "Text(0, 0.5, 'Constraint Violation')"
      ]
     },
     "execution_count": 38,
     "metadata": {},
     "output_type": "execute_result"
    },
    {
     "data": {
      "image/png": "[encoded data removed]",
      "text/plain": [
       "<Figure size 936x432 with 1 Axes>"
      ]
     },
     "metadata": {},
     "output_type": "display_data"
    }
   ],
   "source": [
    "import matplotlib.pyplot as plt\n",
    "import seaborn as sns\n",
    "sns.set(font_scale=2.)\n",
    "sns.set_style('whitegrid')\n",
    "figsize = (13, 6)\n",
    "fig = plt.figure(figsize=figsize)\n",
    "ax = fig.add_subplot(111)\n",
    "sns.set_palette(sns.color_palette(\"Set1\", n_colors=6, desat=.67))\n",
    "plt.plot(T,mse.mean(0))\n",
    "plt.fill_between(T,mean+std,mean,alpha=.2)\n",
    "plt.yscale('log')\n",
    "plt.xlabel('Time(s)')\n",
    "plt.ylabel('Constraint Violation')"
   ]
  },
  {
   "cell_type": "code",
   "execution_count": null,
   "metadata": {},
   "outputs": [],
   "source": [
    "plt.savefig('dynamics_scaling.pdf')#, dpi=100, facecolor='w', edgecolor='w',\n",
    "#         orientation='portrait', papertype=None, format=None,\n",
    "#         transparent=False, bbox_inches=None, pad_inches=0.1,\n",
    "#         frameon=None, metadata=None)"
   ]
  }
 ],
 "metadata": {
  "kernelspec": {
   "display_name": "Python 3",
   "language": "python",
   "name": "python3"
  },
  "language_info": {
   "codemirror_mode": {
    "name": "ipython",
    "version": 3
   },
   "file_extension": ".py",
   "mimetype": "text/x-python",
   "name": "python",
   "nbconvert_exporter": "python",
   "pygments_lexer": "ipython3",
   "version": "3.7.4"
  }
 },
 "nbformat": 4,
 "nbformat_minor": 4
}
