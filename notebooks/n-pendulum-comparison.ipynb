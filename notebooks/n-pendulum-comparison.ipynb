{
 "cells": [
  {
   "cell_type": "code",
   "execution_count": 19,
   "metadata": {},
   "outputs": [],
   "source": [
    "import torch\n",
    "import numpy as np\n",
    "import matplotlib.pyplot as plt\n",
    "import glob\n",
    "import seaborn as sns"
   ]
  },
  {
   "cell_type": "code",
   "execution_count": 20,
   "metadata": {},
   "outputs": [
    {
     "data": {
      "text/plain": [
       "['experiments/3pendulum/CHNN/test_rollouts.npy',\n",
       " 'experiments/3pendulum/HNN/test_rollouts.npy',\n",
       " 'experiments/3pendulum/LNN/test_rollouts.npy',\n",
       " 'experiments/3pendulum/NN/test_rollouts.npy',\n",
       " 'experiments/3pendulum/CHLC/test_rollouts.npy',\n",
       " 'experiments/2pendulum/CHNN/test_rollouts.npy',\n",
       " 'experiments/2pendulum/HNN/test_rollouts.npy',\n",
       " 'experiments/2pendulum/LNN/test_rollouts.npy',\n",
       " 'experiments/2pendulum/NN/test_rollouts.npy',\n",
       " 'experiments/2pendulum/CHLC/test_rollouts.npy',\n",
       " 'experiments/1pendulum/CHNN/test_rollouts.npy',\n",
       " 'experiments/1pendulum/HNN/test_rollouts.npy',\n",
       " 'experiments/1pendulum/LNN/test_rollouts.npy',\n",
       " 'experiments/1pendulum/NN/test_rollouts.npy',\n",
       " 'experiments/1pendulum/CHLC/test_rollouts.npy',\n",
       " 'experiments/5pendulum/CHNN/test_rollouts.npy',\n",
       " 'experiments/5pendulum/HNN/test_rollouts.npy',\n",
       " 'experiments/5pendulum/LNN/test_rollouts.npy',\n",
       " 'experiments/5pendulum/NN/test_rollouts.npy',\n",
       " 'experiments/5pendulum/CHLC/test_rollouts.npy']"
      ]
     },
     "execution_count": 20,
     "metadata": {},
     "output_type": "execute_result"
    }
   ],
   "source": [
    "glob.glob(\"experiments/*/*/test_rollouts.npy\")"
   ]
  },
  {
   "cell_type": "code",
   "execution_count": 21,
   "metadata": {},
   "outputs": [],
   "source": [
    "files = {\"/\".join(fname.split(\"/\")[1:3]): fname for fname in glob.glob(\"experiments/*/*/test_rollouts.npy\")}"
   ]
  },
  {
   "cell_type": "code",
   "execution_count": 22,
   "metadata": {},
   "outputs": [
    {
     "data": {
      "text/plain": [
       "{'3pendulum/CHNN': 'experiments/3pendulum/CHNN/test_rollouts.npy',\n",
       " '3pendulum/HNN': 'experiments/3pendulum/HNN/test_rollouts.npy',\n",
       " '3pendulum/LNN': 'experiments/3pendulum/LNN/test_rollouts.npy',\n",
       " '3pendulum/NN': 'experiments/3pendulum/NN/test_rollouts.npy',\n",
       " '3pendulum/CHLC': 'experiments/3pendulum/CHLC/test_rollouts.npy',\n",
       " '2pendulum/CHNN': 'experiments/2pendulum/CHNN/test_rollouts.npy',\n",
       " '2pendulum/HNN': 'experiments/2pendulum/HNN/test_rollouts.npy',\n",
       " '2pendulum/LNN': 'experiments/2pendulum/LNN/test_rollouts.npy',\n",
       " '2pendulum/NN': 'experiments/2pendulum/NN/test_rollouts.npy',\n",
       " '2pendulum/CHLC': 'experiments/2pendulum/CHLC/test_rollouts.npy',\n",
       " '1pendulum/CHNN': 'experiments/1pendulum/CHNN/test_rollouts.npy',\n",
       " '1pendulum/HNN': 'experiments/1pendulum/HNN/test_rollouts.npy',\n",
       " '1pendulum/LNN': 'experiments/1pendulum/LNN/test_rollouts.npy',\n",
       " '1pendulum/NN': 'experiments/1pendulum/NN/test_rollouts.npy',\n",
       " '1pendulum/CHLC': 'experiments/1pendulum/CHLC/test_rollouts.npy',\n",
       " '5pendulum/CHNN': 'experiments/5pendulum/CHNN/test_rollouts.npy',\n",
       " '5pendulum/HNN': 'experiments/5pendulum/HNN/test_rollouts.npy',\n",
       " '5pendulum/LNN': 'experiments/5pendulum/LNN/test_rollouts.npy',\n",
       " '5pendulum/NN': 'experiments/5pendulum/NN/test_rollouts.npy',\n",
       " '5pendulum/CHLC': 'experiments/5pendulum/CHLC/test_rollouts.npy'}"
      ]
     },
     "execution_count": 22,
     "metadata": {},
     "output_type": "execute_result"
    }
   ],
   "source": [
    "files"
   ]
  },
  {
   "cell_type": "code",
   "execution_count": 23,
   "metadata": {},
   "outputs": [],
   "source": [
    "avg_rel_errs = {k: np.load(file).mean(0)[..., 0] for k, file in files.items()}\n",
    "import pandas as pd\n",
    "df = pd.DataFrame(avg_rel_errs)"
   ]
  },
  {
   "cell_type": "code",
   "execution_count": 24,
   "metadata": {},
   "outputs": [],
   "source": [
    "df = df.transpose()\n",
    "\n",
    "def process_index(k):\n",
    "    return tuple(k.split(\"/\"))\n",
    "\n",
    "df.index = pd.MultiIndex.from_tuples([process_index(k) for k,v in df.iterrows()])\n",
    "\n",
    "df = df.transpose()"
   ]
  },
  {
   "cell_type": "code",
   "execution_count": 25,
   "metadata": {},
   "outputs": [],
   "source": [
    "df = df.sort_index(level=0, axis=1)"
   ]
  },
  {
   "cell_type": "code",
   "execution_count": 26,
   "metadata": {},
   "outputs": [
    {
     "data": {
      "text/html": [
       "<div>\n",
       "<style scoped>\n",
       "    .dataframe tbody tr th:only-of-type {\n",
       "        vertical-align: middle;\n",
       "    }\n",
       "\n",
       "    .dataframe tbody tr th {\n",
       "        vertical-align: top;\n",
       "    }\n",
       "\n",
       "    .dataframe thead tr th {\n",
       "        text-align: left;\n",
       "    }\n",
       "</style>\n",
       "<table border=\"1\" class=\"dataframe\">\n",
       "  <thead>\n",
       "    <tr>\n",
       "      <th></th>\n",
       "      <th colspan=\"5\" halign=\"left\">1pendulum</th>\n",
       "      <th colspan=\"5\" halign=\"left\">2pendulum</th>\n",
       "      <th colspan=\"5\" halign=\"left\">3pendulum</th>\n",
       "      <th colspan=\"5\" halign=\"left\">5pendulum</th>\n",
       "    </tr>\n",
       "    <tr>\n",
       "      <th></th>\n",
       "      <th>CHLC</th>\n",
       "      <th>CHNN</th>\n",
       "      <th>HNN</th>\n",
       "      <th>LNN</th>\n",
       "      <th>NN</th>\n",
       "      <th>CHLC</th>\n",
       "      <th>CHNN</th>\n",
       "      <th>HNN</th>\n",
       "      <th>LNN</th>\n",
       "      <th>NN</th>\n",
       "      <th>CHLC</th>\n",
       "      <th>CHNN</th>\n",
       "      <th>HNN</th>\n",
       "      <th>LNN</th>\n",
       "      <th>NN</th>\n",
       "      <th>CHLC</th>\n",
       "      <th>CHNN</th>\n",
       "      <th>HNN</th>\n",
       "      <th>LNN</th>\n",
       "      <th>NN</th>\n",
       "    </tr>\n",
       "  </thead>\n",
       "  <tbody>\n",
       "    <tr>\n",
       "      <th>0</th>\n",
       "      <td>1.221899e-17</td>\n",
       "      <td>2.297875e-17</td>\n",
       "      <td>0.000000</td>\n",
       "      <td>0.000000</td>\n",
       "      <td>0.000000</td>\n",
       "      <td>2.199891e-17</td>\n",
       "      <td>1.775339e-17</td>\n",
       "      <td>0.000000</td>\n",
       "      <td>0.000000</td>\n",
       "      <td>0.000000</td>\n",
       "      <td>2.205591e-17</td>\n",
       "      <td>5.816045e-18</td>\n",
       "      <td>NaN</td>\n",
       "      <td>0.000000</td>\n",
       "      <td>0.000000</td>\n",
       "      <td>2.498314e-17</td>\n",
       "      <td>1.404138e-17</td>\n",
       "      <td>NaN</td>\n",
       "      <td>0.000000</td>\n",
       "      <td>0.000000</td>\n",
       "    </tr>\n",
       "    <tr>\n",
       "      <th>1</th>\n",
       "      <td>2.437768e-04</td>\n",
       "      <td>1.611488e-05</td>\n",
       "      <td>0.013964</td>\n",
       "      <td>0.006872</td>\n",
       "      <td>0.007293</td>\n",
       "      <td>1.434962e-02</td>\n",
       "      <td>1.991630e-03</td>\n",
       "      <td>0.026247</td>\n",
       "      <td>0.025725</td>\n",
       "      <td>0.024274</td>\n",
       "      <td>9.176448e-03</td>\n",
       "      <td>3.656414e-03</td>\n",
       "      <td>NaN</td>\n",
       "      <td>0.041336</td>\n",
       "      <td>0.037313</td>\n",
       "      <td>3.676741e-02</td>\n",
       "      <td>5.807452e-03</td>\n",
       "      <td>NaN</td>\n",
       "      <td>0.078426</td>\n",
       "      <td>0.071075</td>\n",
       "    </tr>\n",
       "    <tr>\n",
       "      <th>2</th>\n",
       "      <td>4.874826e-04</td>\n",
       "      <td>3.266833e-05</td>\n",
       "      <td>0.027658</td>\n",
       "      <td>0.014005</td>\n",
       "      <td>0.014652</td>\n",
       "      <td>2.769137e-02</td>\n",
       "      <td>3.880847e-03</td>\n",
       "      <td>0.054282</td>\n",
       "      <td>0.048882</td>\n",
       "      <td>0.047093</td>\n",
       "      <td>1.735213e-02</td>\n",
       "      <td>7.417943e-03</td>\n",
       "      <td>NaN</td>\n",
       "      <td>0.081175</td>\n",
       "      <td>0.071721</td>\n",
       "      <td>7.080090e-02</td>\n",
       "      <td>1.096663e-02</td>\n",
       "      <td>NaN</td>\n",
       "      <td>0.147069</td>\n",
       "      <td>0.127391</td>\n",
       "    </tr>\n",
       "    <tr>\n",
       "      <th>3</th>\n",
       "      <td>7.323529e-04</td>\n",
       "      <td>4.957470e-05</td>\n",
       "      <td>0.041666</td>\n",
       "      <td>0.021257</td>\n",
       "      <td>0.022092</td>\n",
       "      <td>3.904091e-02</td>\n",
       "      <td>5.507137e-03</td>\n",
       "      <td>0.083366</td>\n",
       "      <td>0.071802</td>\n",
       "      <td>0.069328</td>\n",
       "      <td>2.561965e-02</td>\n",
       "      <td>1.093391e-02</td>\n",
       "      <td>NaN</td>\n",
       "      <td>0.117337</td>\n",
       "      <td>0.102795</td>\n",
       "      <td>9.557689e-02</td>\n",
       "      <td>1.549257e-02</td>\n",
       "      <td>NaN</td>\n",
       "      <td>0.202852</td>\n",
       "      <td>0.173417</td>\n",
       "    </tr>\n",
       "    <tr>\n",
       "      <th>4</th>\n",
       "      <td>9.736658e-04</td>\n",
       "      <td>6.709278e-05</td>\n",
       "      <td>0.055793</td>\n",
       "      <td>0.028654</td>\n",
       "      <td>0.029583</td>\n",
       "      <td>4.962202e-02</td>\n",
       "      <td>7.153410e-03</td>\n",
       "      <td>0.111264</td>\n",
       "      <td>0.095999</td>\n",
       "      <td>0.090375</td>\n",
       "      <td>3.446365e-02</td>\n",
       "      <td>1.378509e-02</td>\n",
       "      <td>NaN</td>\n",
       "      <td>0.146967</td>\n",
       "      <td>0.129745</td>\n",
       "      <td>1.327326e-01</td>\n",
       "      <td>1.992227e-02</td>\n",
       "      <td>NaN</td>\n",
       "      <td>0.251338</td>\n",
       "      <td>0.211025</td>\n",
       "    </tr>\n",
       "  </tbody>\n",
       "</table>\n",
       "</div>"
      ],
      "text/plain": [
       "      1pendulum                                                 2pendulum  \\\n",
       "           CHLC          CHNN       HNN       LNN        NN          CHLC   \n",
       "0  1.221899e-17  2.297875e-17  0.000000  0.000000  0.000000  2.199891e-17   \n",
       "1  2.437768e-04  1.611488e-05  0.013964  0.006872  0.007293  1.434962e-02   \n",
       "2  4.874826e-04  3.266833e-05  0.027658  0.014005  0.014652  2.769137e-02   \n",
       "3  7.323529e-04  4.957470e-05  0.041666  0.021257  0.022092  3.904091e-02   \n",
       "4  9.736658e-04  6.709278e-05  0.055793  0.028654  0.029583  4.962202e-02   \n",
       "\n",
       "                                                  3pendulum                    \\\n",
       "           CHNN       HNN       LNN        NN          CHLC          CHNN HNN   \n",
       "0  1.775339e-17  0.000000  0.000000  0.000000  2.205591e-17  5.816045e-18 NaN   \n",
       "1  1.991630e-03  0.026247  0.025725  0.024274  9.176448e-03  3.656414e-03 NaN   \n",
       "2  3.880847e-03  0.054282  0.048882  0.047093  1.735213e-02  7.417943e-03 NaN   \n",
       "3  5.507137e-03  0.083366  0.071802  0.069328  2.561965e-02  1.093391e-02 NaN   \n",
       "4  7.153410e-03  0.111264  0.095999  0.090375  3.446365e-02  1.378509e-02 NaN   \n",
       "\n",
       "                          5pendulum                                        \n",
       "        LNN        NN          CHLC          CHNN HNN       LNN        NN  \n",
       "0  0.000000  0.000000  2.498314e-17  1.404138e-17 NaN  0.000000  0.000000  \n",
       "1  0.041336  0.037313  3.676741e-02  5.807452e-03 NaN  0.078426  0.071075  \n",
       "2  0.081175  0.071721  7.080090e-02  1.096663e-02 NaN  0.147069  0.127391  \n",
       "3  0.117337  0.102795  9.557689e-02  1.549257e-02 NaN  0.202852  0.173417  \n",
       "4  0.146967  0.129745  1.327326e-01  1.992227e-02 NaN  0.251338  0.211025  "
      ]
     },
     "execution_count": 26,
     "metadata": {},
     "output_type": "execute_result"
    }
   ],
   "source": [
    "df.head()"
   ]
  },
  {
   "cell_type": "code",
   "execution_count": 27,
   "metadata": {},
   "outputs": [
    {
     "data": {
      "text/plain": [
       "[Text(0, 0.5, 'Average relative error')]"
      ]
     },
     "execution_count": 27,
     "metadata": {},
     "output_type": "execute_result"
    },
    {
     "data": {
      "image/png": "[encoded data removed]",
      "text/plain": [
       "<Figure size 1152x288 with 4 Axes>"
      ]
     },
     "metadata": {
      "needs_background": "light"
     },
     "output_type": "display_data"
    }
   ],
   "source": [
    "fig, axes = plt.subplots(ncols=4, figsize=(16, 4))\n",
    "\n",
    "for system, ax in zip(df.columns.levels[0], axes.flatten()):\n",
    "    df.loc[:, system].plot(ax=ax)\n",
    "    ax.set(yscale=\"log\",\n",
    "           title=system[0] + \"-\" + \"Pendulum\",\n",
    "           xlabel=\"Forward prediction (x 0.1 seconds)\",\n",
    "           #xlim=(-10, 100),\n",
    "           ylim=(1e-4, 2))\n",
    "    ax.axvline(5, label=\"Training trajectory length\")\n",
    "    ax.legend()\n",
    "axes[0].set(ylabel=\"Average relative error\")"
   ]
  }
 ],
 "metadata": {
  "kernelspec": {
   "display_name": "Python 3",
   "language": "python",
   "name": "python3"
  },
  "language_info": {
   "codemirror_mode": {
    "name": "ipython",
    "version": 3
   },
   "file_extension": ".py",
   "mimetype": "text/x-python",
   "name": "python",
   "nbconvert_exporter": "python",
   "pygments_lexer": "ipython3",
   "version": "3.7.6"
  }
 },
 "nbformat": 4,
 "nbformat_minor": 4
}
