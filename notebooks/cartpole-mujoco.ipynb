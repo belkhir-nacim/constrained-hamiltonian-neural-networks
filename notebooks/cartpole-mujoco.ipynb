{
 "cells": [
  {
   "cell_type": "code",
   "execution_count": 13,
   "metadata": {},
   "outputs": [],
   "source": [
    "from dm_control import suite, viewer\n",
    "import numpy as np"
   ]
  },
  {
   "cell_type": "code",
   "execution_count": 15,
   "metadata": {},
   "outputs": [],
   "source": [
    "import matplotlib.pyplot as plt\n",
    "import pandas as pd\n",
    "%matplotlib widget"
   ]
  },
  {
   "cell_type": "code",
   "execution_count": 11,
   "metadata": {},
   "outputs": [],
   "source": [
    "seed = 0\n",
    "env = suite.load(domain_name=\"cartpole\", task_name=\"balance\",\n",
    "                 task_kwargs={\"random\": seed})"
   ]
  },
  {
   "cell_type": "code",
   "execution_count": 4,
   "metadata": {},
   "outputs": [],
   "source": [
    "superclass = type(env.task).mro()[1]"
   ]
  },
  {
   "cell_type": "code",
   "execution_count": 5,
   "metadata": {},
   "outputs": [
    {
     "data": {
      "text/plain": [
       "<bound method Balance.initialize_episode of <dm_control.suite.cartpole.Balance object at 0x7fdc71da90d0>>"
      ]
     },
     "execution_count": 5,
     "metadata": {},
     "output_type": "execute_result"
    }
   ],
   "source": [
    "env.task.initialize_episode"
   ]
  },
  {
   "cell_type": "code",
   "execution_count": 21,
   "metadata": {},
   "outputs": [
    {
     "data": {
      "text/plain": [
       "FieldIndexer(cvel):\n",
       "0  world [ 0         0         0         0         0         0       ]\n",
       "1   cart [ 0         0         0         0         0         0       ]\n",
       "2 pole_1 [ 0         0         0         0         0         0       ]"
      ]
     },
     "execution_count": 21,
     "metadata": {},
     "output_type": "execute_result"
    }
   ],
   "source": [
    "env.physics.named.data.cvel"
   ]
  },
  {
   "cell_type": "code",
   "execution_count": 6,
   "metadata": {},
   "outputs": [],
   "source": [
    "import types\n",
    "\n",
    "def initialize_episode(self, physics):\n",
    "    # replace https://github.com/deepmind/dm_control/blob/03bebdf9eea0cbab480aa4882adbc4184b850835/dm_control/suite/cartpole.py#L182\n",
    "    # for some reason we don't need physics.reset_context() here since dm_control doesn't use it?\n",
    "    physics.named.data.qpos[\"slider\"][0] = np.array([0.0])\n",
    "    physics.named.data.qpos[\"hinge_1\"][0] = np.array([3.1415926 / 2])\n",
    "    physics.named.data.qvel[\"slider\"][0] = np.array([0.0])\n",
    "    physics.named.data.qvel[\"hinge_1\"][0] = np.array([0.0])\n",
    "    \n",
    "    # call function from super class which should be a dm_control.suite.base.Task\n",
    "    # replaces `super(Balance, self).initialize_episode(physics)`\n",
    "    superclass = type(env.task).mro()[1]\n",
    "    superclass.initialize_episode(self, physics)\n",
    "    return\n",
    "\n",
    "# make `initialize_episode` a bound method instead of just a static function\n",
    "# https://tryolabs.com/blog/2013/07/05/run-time-method-patching-python/\n",
    "env.task.initialize_episode = types.MethodType(initialize_episode, env.task)\n",
    "\n",
    "# why is the docstrings for MethodType not in https://docs.python.org/3/library/types.html?highlight=types?\n",
    "# where is it and how does help know where it is?"
   ]
  },
  {
   "cell_type": "code",
   "execution_count": 26,
   "metadata": {},
   "outputs": [],
   "source": [
    "import torch\n",
    "from torch.utils.data import Dataset\n",
    "from dm_control import suite\n",
    "import numpy as np\n",
    "import types\n",
    "import os\n",
    "\n",
    "\n",
    "class CartpoleDataset(Dataset):\n",
    "    def __init__(self, root_dir=None,body=None, regen=False,\n",
    "                 batch_size=100, chunk_len=5, time_limit=10, seed=0):\n",
    "        super().__init__()\n",
    "        self.seed = seed\n",
    "        self.body = body\n",
    "        \n",
    "        root_dir = root_dir or os.path.expanduser(f'~/datasets/ODEDynamics/{self.__class__}/')\n",
    "        filename = os.path.join(root_dir, f\"trajectories_N{batch_size}_T{time_limit}.pz\")\n",
    "        if os.path.exists(filename) and not regen:\n",
    "            ts, zs = torch.load(filename)\n",
    "        else:\n",
    "            ts, zs = self.generate_trajectory_data(batch_size, time_limit)\n",
    "            os.makedirs(root_dir, exist_ok=True)\n",
    "            torch.save((ts, zs),filename)\n",
    "        self.Ts, self.Zs = self.chunk_training_data(ts, zs, chunk_len)\n",
    "\n",
    "    def __len__(self):\n",
    "        return self.Zs.shape[0]\n",
    "\n",
    "    def __getitem__(self, i):\n",
    "        return (self.Zs[i, 0], self.Ts[i]), self.Zs[i]\n",
    "    \n",
    "    def _initialize_env(self, time_limit, seed):\n",
    "        env = suite.load(domain_name=\"cartpole\", task_name=\"balance\", task_kwargs={\"random\": seed})\n",
    "\n",
    "        # set time limit a la https://github.com/deepmind/dm_control/blob/03bebdf9eea0cbab480aa4882adbc4184b850835/dm_control/rl/control.py#L76\n",
    "        if time_limit == float('inf'):\n",
    "            env._step_limit = float('inf')\n",
    "        else:\n",
    "            # possible soure of error in the future if our agent does action repeats\n",
    "            env._step_limit = time_limit / (env._physics.timestep() * env._n_sub_steps)\n",
    "\n",
    "        def initialize_episode(self, physics):\n",
    "            # replace https://github.com/deepmind/dm_control/blob/03bebdf9eea0cbab480aa4882adbc4184b850835/dm_control/suite/cartpole.py#L182\n",
    "            #physics.named.data.qpos[\"slider\"][0] = np.array([0.0])\n",
    "            #physics.named.data.qpos[\"hinge_1\"][0] = np.array([3.1415926 / 2])\n",
    "            #physics.named.data.qvel[\"slider\"][0] = np.array([0.0])\n",
    "            #physics.named.data.qvel[\"hinge_1\"][0] = np.array([0.0])\n",
    "\n",
    "            #we'll use the default for Cartpole for now\n",
    "            nv = physics.model.nv\n",
    "            if self._swing_up:\n",
    "                physics.named.data.qpos['slider'] = .01*self.random.randn()\n",
    "                physics.named.data.qpos['hinge_1'] = np.pi + .01*self.random.randn()\n",
    "                physics.named.data.qpos[2:] = .1*self.random.randn(nv - 2)\n",
    "            else:\n",
    "                physics.named.data.qpos['slider'] = self.random.uniform(-.1, .1)\n",
    "                physics.named.data.qpos[1:] = self.random.uniform(-.034, .034, nv - 1)\n",
    "            physics.named.data.qvel[:] = 0.01 * self.random.randn(physics.model.nv)\n",
    "\n",
    "            # call function from super class which should be a dm_control.suite.base.Task\n",
    "            # replaces `super(Balance, self).initialize_episode(physics)`\n",
    "            superclass = type(env.task).mro()[1]\n",
    "            superclass.initialize_episode(self, physics)\n",
    "            return\n",
    "\n",
    "        # make `initialize_episode` a bound method instead of just a static function\n",
    "        # https://tryolabs.com/blog/2013/07/05/run-time-method-patching-python/\n",
    "        env.task.initialize_episode = types.MethodType(initialize_episode, env.task)\n",
    "        \n",
    "        return env\n",
    "\n",
    "    def generate_trajectory_data(self, batch_size, time_limit):\n",
    "        cartesian_trajs = []\n",
    "        generalized_trajs = []        \n",
    "        for i in range(batch_size):\n",
    "            if i % 100 == 0:\n",
    "                print(i)\n",
    "            # new random seed each run based on `self.seed`\n",
    "            env = self._initialize_env(time_limit, self.seed + i)\n",
    "            cartesian_traj, generalized_traj = self._evolve(env)\n",
    "            cartesian_trajs.append(cartesian_traj)\n",
    "            generalized_trajs.append(generalized_traj)\n",
    "                       \n",
    "        cartesian_trajs, generalized_trajs = map(np.stack, [cartesian_trajs, generalized_trajs])\n",
    "        cartesian_trajs, generalized_trajs = map(torch.from_numpy, [cartesian_trajs, generalized_trajs])\n",
    "        time = torch.linspace(0,\n",
    "                              int(env._physics.timestep() * env._n_sub_steps * env._step_limit),     \n",
    "                              int(env._step_limit) + 1 - 1) # add one because of initial state from env.reset(), subtract one because we throw away the last state to chunk our data evenly\n",
    "        time = time.view(1, -1).expand(batch_size, len(time))\n",
    "        \n",
    "        # ignore generalized_trajs for now\n",
    "        return time, cartesian_trajs\n",
    "    \n",
    "    def _get_com(self, env, body):\n",
    "        # we only keep x and y\n",
    "        return np.copy(env.physics.named.data.xipos[body][:-1])\n",
    "    \n",
    "    def _get_cvel(self, env, body):\n",
    "        # last three entries corresponding to translational velocity\n",
    "        # we only keep x and y\n",
    "        return np.copy(env.physics.named.data.cvel[body][-3:-1])\n",
    "    \n",
    "    def _get_com_mom(self, env, body):\n",
    "        return self._get_cvel(env, body) * env.physics.named.model.body_mass[body]\n",
    "    \n",
    "    def _get_q(self, env, body):\n",
    "        return np.copy(env.physics.named.data.qpos[body])\n",
    "    \n",
    "    def _get_p(self, env, body):\n",
    "        return np.copy(env.physics.named.data.qvel[body])\n",
    "    \n",
    "    def _evolve(self, env):\n",
    "        # get the cartesian coordinate of pole and cart and their velocities\n",
    "        time_step = env.reset()\n",
    "        # positions\n",
    "        pole_com = [self._get_com(env, \"pole_1\")]\n",
    "        cart_com = [self._get_com(env, \"cart\")]\n",
    "        pole_q = [self._get_q(env, \"hinge_1\")]\n",
    "        cart_q = [self._get_q(env, \"slider\")]\n",
    "        # momentums\n",
    "        pole_com_mom = [self._get_com_mom(env, \"pole_1\")]\n",
    "        cart_com_mom = [self._get_com_mom(env, \"cart\")]\n",
    "        pole_p = [self._get_p(env, \"hinge_1\")]\n",
    "        cart_p = [self._get_p(env, \"slider\")]\n",
    "                    \n",
    "        action_spec = env.action_spec()\n",
    "        while not time_step.last():\n",
    "            # Take no action, just let the system evolve\n",
    "            action = np.zeros(action_spec.shape)\n",
    "            time_step = env.step(action)\n",
    "            \n",
    "            pole_com.append(self._get_com(env, \"pole_1\"))\n",
    "            cart_com.append(self._get_com(env, \"cart\"))\n",
    "            pole_q.append(self._get_q(env, \"hinge_1\"))\n",
    "            cart_q.append(self._get_q(env, \"slider\"))\n",
    "            \n",
    "            pole_com_mom.append(self._get_com_mom(env, \"pole_1\"))\n",
    "            cart_com_mom.append(self._get_com_mom(env, \"cart\"))\n",
    "            pole_p.append(self._get_p(env, \"hinge_1\"))\n",
    "            cart_p.append(self._get_p(env, \"slider\"))\n",
    "\n",
    "        pole_com, pole_com_mom, cart_com, cart_com_mom = map(np.stack, [pole_com, pole_com_mom, cart_com, cart_com_mom])\n",
    "        pole_q, pole_p, cart_q, cart_p = map(np.stack, [pole_q, pole_p, cart_q, cart_p])\n",
    "        \n",
    "        com = np.stack([cart_com, pole_com])\n",
    "        com_mom = np.stack([cart_com_mom, pole_com_mom])\n",
    "    \n",
    "        q = np.stack([cart_q, pole_q])\n",
    "        p = np.stack([cart_p, pole_p])    \n",
    "        \n",
    "        cartesian_traj = np.stack([com, com_mom])\n",
    "        generalized_traj = np.stack([q, p])\n",
    "        cartesian_traj = np.transpose(cartesian_traj, (2, 0, 1, 3))\n",
    "        generalized_traj = np.transpose(generalized_traj, (2, 0, 1, 3))\n",
    "        # output should be (number of time steps) x (q or p) x (number of bodys) x (dimension of quantity)\n",
    "        \n",
    "        # toss the final time step because we want to be able to chunk evenly\n",
    "        cartesian_traj = cartesian_traj[:-1]\n",
    "        generalized_traj = generalized_traj[:-1]\n",
    "        return cartesian_traj, generalized_traj\n",
    "\n",
    "\n",
    "    def chunk_training_data(self, ts, zs, chunk_len):\n",
    "        \"\"\" Randomly samples chunks of trajectory data, returns tensors shaped for training.\n",
    "        Inputs: [ts (batch_size, traj_len)] [zs (batch_size, traj_len, *z_dim)]\n",
    "        outputs: [chosen_ts (batch_size, chunk_len)] [chosen_zs (batch_size, chunk_len, *z_dim)]\"\"\"\n",
    "        batch_size, traj_len, *z_dim = zs.shape\n",
    "        n_chunks = traj_len // chunk_len\n",
    "        chunk_idx = torch.randint(0, n_chunks, (batch_size,), device=zs.device).long()\n",
    "        chunked_ts = torch.stack(ts.chunk(n_chunks, dim=1))\n",
    "        chunked_zs = torch.stack(zs.chunk(n_chunks, dim=1))\n",
    "        chosen_ts = chunked_ts[chunk_idx, range(batch_size)]\n",
    "        chosen_zs = chunked_zs[chunk_idx, torch.arange(batch_size).long()]\n",
    "        return chosen_ts, chosen_zs"
   ]
  },
  {
   "cell_type": "code",
   "execution_count": 27,
   "metadata": {},
   "outputs": [
    {
     "name": "stdout",
     "output_type": "stream",
     "text": [
      "0\n"
     ]
    },
    {
     "data": {
      "text/plain": [
       "<__main__.CartpoleDataset at 0x7f9c8a07df10>"
      ]
     },
     "execution_count": 27,
     "metadata": {},
     "output_type": "execute_result"
    }
   ],
   "source": [
    "CartpoleDataset(batch_size=100)"
   ]
  },
  {
   "cell_type": "code",
   "execution_count": 7,
   "metadata": {},
   "outputs": [],
   "source": [
    "viewer.launch(env)"
   ]
  },
  {
   "cell_type": "code",
   "execution_count": 7,
   "metadata": {},
   "outputs": [
    {
     "data": {
      "text/plain": [
       "2"
      ]
     },
     "execution_count": 7,
     "metadata": {},
     "output_type": "execute_result"
    }
   ],
   "source": [
    "env.physics.model.nq"
   ]
  },
  {
   "cell_type": "code",
   "execution_count": 8,
   "metadata": {},
   "outputs": [
    {
     "data": {
      "text/plain": [
       "FieldIndexer(body_mass):\n",
       "0  world [ 0       ]\n",
       "1   cart [ 1       ]\n",
       "2 pole_1 [ 0.1     ]"
      ]
     },
     "execution_count": 8,
     "metadata": {},
     "output_type": "execute_result"
    }
   ],
   "source": [
    "env.physics.named.model.body_mass"
   ]
  },
  {
   "cell_type": "code",
   "execution_count": 9,
   "metadata": {},
   "outputs": [
    {
     "data": {
      "text/plain": [
       "FieldIndexer(qpos0):\n",
       "0  slider [ 0       ]\n",
       "1 hinge_1 [ 0       ]"
      ]
     },
     "execution_count": 9,
     "metadata": {},
     "output_type": "execute_result"
    }
   ],
   "source": [
    "# default initialization\n",
    "env.physics.named.model.qpos0"
   ]
  },
  {
   "cell_type": "code",
   "execution_count": 10,
   "metadata": {},
   "outputs": [
    {
     "data": {
      "text/plain": [
       "FieldIndexer(body_inertia):\n",
       "           x         y         z         \n",
       "0  world [ 0         0         0       ]\n",
       "1   cart [ 0.0108    0.0167    0.0208  ]\n",
       "2 pole_1 [ 0.00915   0.00915   0.000101]"
      ]
     },
     "execution_count": 10,
     "metadata": {},
     "output_type": "execute_result"
    }
   ],
   "source": [
    "env.physics.named.model.body_inertia"
   ]
  },
  {
   "cell_type": "code",
   "execution_count": 11,
   "metadata": {},
   "outputs": [
    {
     "data": {
      "text/plain": [
       "FieldIndexer(xaxis):\n",
       "            x         y         z         \n",
       "0  slider [ 1         0         0       ]\n",
       "1 hinge_1 [ 0         1         0       ]"
      ]
     },
     "execution_count": 11,
     "metadata": {},
     "output_type": "execute_result"
    }
   ],
   "source": [
    "env.physics.named.data.xaxis"
   ]
  },
  {
   "cell_type": "code",
   "execution_count": 12,
   "metadata": {},
   "outputs": [],
   "source": [
    "# See http://www.mujoco.org/book/APIreference.html#mjData for references on how to get the quantities needed\n",
    "action_spec = env.action_spec()\n",
    "\n",
    "def evolve():\n",
    "    time_step = env.reset()\n",
    "    \n",
    "    #pole_xpos = [np.copy(env.physics.named.data.xpos[\"pole_1\"])]\n",
    "    #cart_xpos = [np.copy(env.physics.named.data.xpos[\"cart\"])]\n",
    "    \n",
    "    # see https://github.com/deepmind/dm_control/issues/131 for how to change initialization and parameters\n",
    "    \n",
    "\n",
    "    # see bottom of page 10 of the dm_control text report https://arxiv.org/pdf/1801.00690.pdf\n",
    "    # need to reset context to ensure that everything is updated after setting initialization\n",
    "    with env.physics.reset_context():\n",
    "        env.physics.named.data.qpos[\"slider\"][0] = np.array([0.0])\n",
    "        env.physics.named.data.qpos[\"hinge_1\"][0] = np.array([3.1415926 / 2])\n",
    "        env.physics.named.data.qvel[\"slider\"][0] = np.array([0.0])\n",
    "        env.physics.named.data.qvel[\"hinge_1\"][0] = np.array([0.0])\n",
    "        #env.physics.set_state(np.array([0., 0., 0., 0.,]))\n",
    "        \n",
    "    print(env.physics.get_state())\n",
    "        \n",
    "    plt.imshow(env.physics.render(camera_id=0))\n",
    "    \n",
    "    \n",
    "    pole_com = [np.copy(env.physics.named.data.xipos[\"pole_1\"])]\n",
    "    cart_com = [np.copy(env.physics.named.data.xipos[\"cart\"])]\n",
    "    hinge_anchor = [np.copy(env.physics.named.data.xanchor[\"hinge_1\"])]\n",
    "        \n",
    "    while not time_step.last():\n",
    "        action = np.zeros(action_spec.shape)\n",
    "        time_step = env.step(action)\n",
    "        \n",
    "        # why are pole and cart xpos the same?\n",
    "        #pole_xpos.append(np.copy(env.physics.named.data.xpos[\"pole_1\"]))\n",
    "        #cart_xpos.append(np.copy(env.physics.named.data.xpos[\"cart\"]))\n",
    "        pole_com.append(np.copy(env.physics.named.data.xipos[\"pole_1\"]))\n",
    "        cart_com.append(np.copy(env.physics.named.data.xipos[\"cart\"]))\n",
    "        hinge_anchor.append(np.copy(env.physics.named.data.xanchor[\"hinge_1\"]))\n",
    "        \n",
    "    return np.stack(pole_com), np.stack(cart_com), np.stack(hinge_anchor)"
   ]
  },
  {
   "cell_type": "code",
   "execution_count": 13,
   "metadata": {},
   "outputs": [
    {
     "name": "stdout",
     "output_type": "stream",
     "text": [
      "[0.        1.5707963 0.        0.       ]\n"
     ]
    },
    {
     "data": {
      "application/vnd.jupyter.widget-view+json": {
       "model_id": "393b3e8c4de14c85a7d4657a4663e440",
       "version_major": 2,
       "version_minor": 0
      },
      "text/plain": [
       "Canvas(toolbar=Toolbar(toolitems=[('Home', 'Reset original view', 'home', 'home'), ('Back', 'Back to previous …"
      ]
     },
     "metadata": {},
     "output_type": "display_data"
    }
   ],
   "source": [
    "pole_com, cart_com, hinge_anchor = evolve()"
   ]
  },
  {
   "cell_type": "code",
   "execution_count": 14,
   "metadata": {},
   "outputs": [
    {
     "data": {
      "application/vnd.jupyter.widget-view+json": {
       "model_id": "81dfda53e8da47e08482bede7d327e3f",
       "version_major": 2,
       "version_minor": 0
      },
      "text/plain": [
       "Canvas(toolbar=Toolbar(toolitems=[('Home', 'Reset original view', 'home', 'home'), ('Back', 'Back to previous …"
      ]
     },
     "metadata": {},
     "output_type": "display_data"
    },
    {
     "data": {
      "text/plain": [
       "<mpl_toolkits.mplot3d.art3d.Path3DCollection at 0x7fdc6dee4d90>"
      ]
     },
     "execution_count": 14,
     "metadata": {},
     "output_type": "execute_result"
    }
   ],
   "source": [
    "from mpl_toolkits.mplot3d import Axes3D\n",
    "import matplotlib.cm as cm\n",
    "\n",
    "fig = plt.figure()\n",
    "ax = fig.add_subplot(111, projection='3d')\n",
    "colors = cm.rainbow(np.linspace(0, 1, len(pole_com)))\n",
    "\n",
    "ax.scatter(*pole_com.T, color=colors)"
   ]
  },
  {
   "cell_type": "code",
   "execution_count": 15,
   "metadata": {},
   "outputs": [
    {
     "data": {
      "application/vnd.jupyter.widget-view+json": {
       "model_id": "1f657aa6bb89418dbb0a0b89d732ce89",
       "version_major": 2,
       "version_minor": 0
      },
      "text/plain": [
       "Canvas(toolbar=Toolbar(toolitems=[('Home', 'Reset original view', 'home', 'home'), ('Back', 'Back to previous …"
      ]
     },
     "metadata": {},
     "output_type": "display_data"
    },
    {
     "data": {
      "text/plain": [
       "<mpl_toolkits.mplot3d.art3d.Path3DCollection at 0x7fdc6df0e4d0>"
      ]
     },
     "execution_count": 15,
     "metadata": {},
     "output_type": "execute_result"
    }
   ],
   "source": [
    "from mpl_toolkits.mplot3d import Axes3D\n",
    "fig = plt.figure()\n",
    "ax = fig.add_subplot(111, projection='3d')\n",
    "colors = cm.rainbow(np.linspace(0, 1, len(cart_com)))\n",
    "\n",
    "ax.scatter(*cart_com.T, color=colors)"
   ]
  },
  {
   "cell_type": "code",
   "execution_count": 16,
   "metadata": {},
   "outputs": [
    {
     "data": {
      "application/vnd.jupyter.widget-view+json": {
       "model_id": "0317cf9035234b66894d1fe8d4ea3674",
       "version_major": 2,
       "version_minor": 0
      },
      "text/plain": [
       "Canvas(toolbar=Toolbar(toolitems=[('Home', 'Reset original view', 'home', 'home'), ('Back', 'Back to previous …"
      ]
     },
     "metadata": {},
     "output_type": "display_data"
    },
    {
     "data": {
      "text/plain": [
       "<mpl_toolkits.mplot3d.art3d.Path3DCollection at 0x7fdc6df0e810>"
      ]
     },
     "execution_count": 16,
     "metadata": {},
     "output_type": "execute_result"
    }
   ],
   "source": [
    "from mpl_toolkits.mplot3d import Axes3D\n",
    "fig = plt.figure()\n",
    "ax = fig.add_subplot(111, projection='3d')\n",
    "colors = cm.rainbow(np.linspace(0, 1, len(hinge_anchor)))\n",
    "\n",
    "ax.scatter(*hinge_anchor.T, color=colors)"
   ]
  },
  {
   "cell_type": "code",
   "execution_count": 17,
   "metadata": {},
   "outputs": [
    {
     "ename": "TypeError",
     "evalue": "loop of ufunc does not support argument 0 of type NoneType which has no callable sqrt method",
     "output_type": "error",
     "traceback": [
      "\u001b[0;31m---------------------------------------------------------------------------\u001b[0m",
      "\u001b[0;31mAttributeError\u001b[0m                            Traceback (most recent call last)",
      "\u001b[0;31mAttributeError\u001b[0m: 'NoneType' object has no attribute 'sqrt'",
      "\nThe above exception was the direct cause of the following exception:\n",
      "\u001b[0;31mTypeError\u001b[0m                                 Traceback (most recent call last)",
      "\u001b[0;32m<ipython-input-17-dbf152fe4d8b>\u001b[0m in \u001b[0;36m<module>\u001b[0;34m\u001b[0m\n\u001b[0;32m----> 1\u001b[0;31m \u001b[0mplt\u001b[0m\u001b[0;34m.\u001b[0m\u001b[0mscatter\u001b[0m\u001b[0;34m(\u001b[0m\u001b[0mnp\u001b[0m\u001b[0;34m.\u001b[0m\u001b[0mzeros\u001b[0m\u001b[0;34m(\u001b[0m\u001b[0mlen\u001b[0m\u001b[0;34m(\u001b[0m\u001b[0mcolors\u001b[0m\u001b[0;34m)\u001b[0m\u001b[0;34m)\u001b[0m\u001b[0;34m,\u001b[0m \u001b[0mnp\u001b[0m\u001b[0;34m.\u001b[0m\u001b[0marange\u001b[0m\u001b[0;34m(\u001b[0m\u001b[0mlen\u001b[0m\u001b[0;34m(\u001b[0m\u001b[0mcolors\u001b[0m\u001b[0;34m)\u001b[0m\u001b[0;34m)\u001b[0m \u001b[0;34m/\u001b[0m \u001b[0mlen\u001b[0m\u001b[0;34m(\u001b[0m\u001b[0mcolors\u001b[0m\u001b[0;34m)\u001b[0m\u001b[0;34m,\u001b[0m \u001b[0mcolor\u001b[0m\u001b[0;34m=\u001b[0m\u001b[0mcolors\u001b[0m\u001b[0;34m)\u001b[0m\u001b[0;34m\u001b[0m\u001b[0;34m\u001b[0m\u001b[0m\n\u001b[0m",
      "\u001b[0;32m~/miniconda3/envs/ham37/lib/python3.7/site-packages/matplotlib/pyplot.py\u001b[0m in \u001b[0;36mscatter\u001b[0;34m(x, y, s, c, marker, cmap, norm, vmin, vmax, alpha, linewidths, verts, edgecolors, plotnonfinite, data, **kwargs)\u001b[0m\n\u001b[1;32m   2814\u001b[0m         \u001b[0mverts\u001b[0m\u001b[0;34m=\u001b[0m\u001b[0mverts\u001b[0m\u001b[0;34m,\u001b[0m \u001b[0medgecolors\u001b[0m\u001b[0;34m=\u001b[0m\u001b[0medgecolors\u001b[0m\u001b[0;34m,\u001b[0m\u001b[0;34m\u001b[0m\u001b[0;34m\u001b[0m\u001b[0m\n\u001b[1;32m   2815\u001b[0m         plotnonfinite=plotnonfinite, **({\"data\": data} if data is not\n\u001b[0;32m-> 2816\u001b[0;31m         None else {}), **kwargs)\n\u001b[0m\u001b[1;32m   2817\u001b[0m     \u001b[0msci\u001b[0m\u001b[0;34m(\u001b[0m\u001b[0m__ret\u001b[0m\u001b[0;34m)\u001b[0m\u001b[0;34m\u001b[0m\u001b[0;34m\u001b[0m\u001b[0m\n\u001b[1;32m   2818\u001b[0m     \u001b[0;32mreturn\u001b[0m \u001b[0m__ret\u001b[0m\u001b[0;34m\u001b[0m\u001b[0;34m\u001b[0m\u001b[0m\n",
      "\u001b[0;32m~/miniconda3/envs/ham37/lib/python3.7/site-packages/mpl_toolkits/mplot3d/axes3d.py\u001b[0m in \u001b[0;36mscatter\u001b[0;34m(self, xs, ys, zs, zdir, s, c, depthshade, *args, **kwargs)\u001b[0m\n\u001b[1;32m   2237\u001b[0m         \u001b[0mxs\u001b[0m\u001b[0;34m,\u001b[0m \u001b[0mys\u001b[0m\u001b[0;34m,\u001b[0m \u001b[0mzs\u001b[0m\u001b[0;34m,\u001b[0m \u001b[0ms\u001b[0m\u001b[0;34m,\u001b[0m \u001b[0mc\u001b[0m \u001b[0;34m=\u001b[0m \u001b[0mcbook\u001b[0m\u001b[0;34m.\u001b[0m\u001b[0mdelete_masked_points\u001b[0m\u001b[0;34m(\u001b[0m\u001b[0mxs\u001b[0m\u001b[0;34m,\u001b[0m \u001b[0mys\u001b[0m\u001b[0;34m,\u001b[0m \u001b[0mzs\u001b[0m\u001b[0;34m,\u001b[0m \u001b[0ms\u001b[0m\u001b[0;34m,\u001b[0m \u001b[0mc\u001b[0m\u001b[0;34m)\u001b[0m\u001b[0;34m\u001b[0m\u001b[0;34m\u001b[0m\u001b[0m\n\u001b[1;32m   2238\u001b[0m \u001b[0;34m\u001b[0m\u001b[0m\n\u001b[0;32m-> 2239\u001b[0;31m         \u001b[0mpatches\u001b[0m \u001b[0;34m=\u001b[0m \u001b[0msuper\u001b[0m\u001b[0;34m(\u001b[0m\u001b[0;34m)\u001b[0m\u001b[0;34m.\u001b[0m\u001b[0mscatter\u001b[0m\u001b[0;34m(\u001b[0m\u001b[0mxs\u001b[0m\u001b[0;34m,\u001b[0m \u001b[0mys\u001b[0m\u001b[0;34m,\u001b[0m \u001b[0ms\u001b[0m\u001b[0;34m=\u001b[0m\u001b[0ms\u001b[0m\u001b[0;34m,\u001b[0m \u001b[0mc\u001b[0m\u001b[0;34m=\u001b[0m\u001b[0mc\u001b[0m\u001b[0;34m,\u001b[0m \u001b[0;34m*\u001b[0m\u001b[0margs\u001b[0m\u001b[0;34m,\u001b[0m \u001b[0;34m**\u001b[0m\u001b[0mkwargs\u001b[0m\u001b[0;34m)\u001b[0m\u001b[0;34m\u001b[0m\u001b[0;34m\u001b[0m\u001b[0m\n\u001b[0m\u001b[1;32m   2240\u001b[0m         art3d.patch_collection_2d_to_3d(patches, zs=zs, zdir=zdir,\n\u001b[1;32m   2241\u001b[0m                                         depthshade=depthshade)\n",
      "\u001b[0;32m~/miniconda3/envs/ham37/lib/python3.7/site-packages/matplotlib/__init__.py\u001b[0m in \u001b[0;36minner\u001b[0;34m(ax, data, *args, **kwargs)\u001b[0m\n\u001b[1;32m   1563\u001b[0m     \u001b[0;32mdef\u001b[0m \u001b[0minner\u001b[0m\u001b[0;34m(\u001b[0m\u001b[0max\u001b[0m\u001b[0;34m,\u001b[0m \u001b[0;34m*\u001b[0m\u001b[0margs\u001b[0m\u001b[0;34m,\u001b[0m \u001b[0mdata\u001b[0m\u001b[0;34m=\u001b[0m\u001b[0;32mNone\u001b[0m\u001b[0;34m,\u001b[0m \u001b[0;34m**\u001b[0m\u001b[0mkwargs\u001b[0m\u001b[0;34m)\u001b[0m\u001b[0;34m:\u001b[0m\u001b[0;34m\u001b[0m\u001b[0;34m\u001b[0m\u001b[0m\n\u001b[1;32m   1564\u001b[0m         \u001b[0;32mif\u001b[0m \u001b[0mdata\u001b[0m \u001b[0;32mis\u001b[0m \u001b[0;32mNone\u001b[0m\u001b[0;34m:\u001b[0m\u001b[0;34m\u001b[0m\u001b[0;34m\u001b[0m\u001b[0m\n\u001b[0;32m-> 1565\u001b[0;31m             \u001b[0;32mreturn\u001b[0m \u001b[0mfunc\u001b[0m\u001b[0;34m(\u001b[0m\u001b[0max\u001b[0m\u001b[0;34m,\u001b[0m \u001b[0;34m*\u001b[0m\u001b[0mmap\u001b[0m\u001b[0;34m(\u001b[0m\u001b[0msanitize_sequence\u001b[0m\u001b[0;34m,\u001b[0m \u001b[0margs\u001b[0m\u001b[0;34m)\u001b[0m\u001b[0;34m,\u001b[0m \u001b[0;34m**\u001b[0m\u001b[0mkwargs\u001b[0m\u001b[0;34m)\u001b[0m\u001b[0;34m\u001b[0m\u001b[0;34m\u001b[0m\u001b[0m\n\u001b[0m\u001b[1;32m   1566\u001b[0m \u001b[0;34m\u001b[0m\u001b[0m\n\u001b[1;32m   1567\u001b[0m         \u001b[0mbound\u001b[0m \u001b[0;34m=\u001b[0m \u001b[0mnew_sig\u001b[0m\u001b[0;34m.\u001b[0m\u001b[0mbind\u001b[0m\u001b[0;34m(\u001b[0m\u001b[0max\u001b[0m\u001b[0;34m,\u001b[0m \u001b[0;34m*\u001b[0m\u001b[0margs\u001b[0m\u001b[0;34m,\u001b[0m \u001b[0;34m**\u001b[0m\u001b[0mkwargs\u001b[0m\u001b[0;34m)\u001b[0m\u001b[0;34m\u001b[0m\u001b[0;34m\u001b[0m\u001b[0m\n",
      "\u001b[0;32m~/miniconda3/envs/ham37/lib/python3.7/site-packages/matplotlib/cbook/deprecation.py\u001b[0m in \u001b[0;36mwrapper\u001b[0;34m(*args, **kwargs)\u001b[0m\n\u001b[1;32m    356\u001b[0m                 \u001b[0;34mf\"%(removal)s.  If any parameter follows {name!r}, they \"\u001b[0m\u001b[0;34m\u001b[0m\u001b[0;34m\u001b[0m\u001b[0m\n\u001b[1;32m    357\u001b[0m                 f\"should be pass as keyword, not positionally.\")\n\u001b[0;32m--> 358\u001b[0;31m         \u001b[0;32mreturn\u001b[0m \u001b[0mfunc\u001b[0m\u001b[0;34m(\u001b[0m\u001b[0;34m*\u001b[0m\u001b[0margs\u001b[0m\u001b[0;34m,\u001b[0m \u001b[0;34m**\u001b[0m\u001b[0mkwargs\u001b[0m\u001b[0;34m)\u001b[0m\u001b[0;34m\u001b[0m\u001b[0;34m\u001b[0m\u001b[0m\n\u001b[0m\u001b[1;32m    359\u001b[0m \u001b[0;34m\u001b[0m\u001b[0m\n\u001b[1;32m    360\u001b[0m     \u001b[0;32mreturn\u001b[0m \u001b[0mwrapper\u001b[0m\u001b[0;34m\u001b[0m\u001b[0;34m\u001b[0m\u001b[0m\n",
      "\u001b[0;32m~/miniconda3/envs/ham37/lib/python3.7/site-packages/matplotlib/axes/_axes.py\u001b[0m in \u001b[0;36mscatter\u001b[0;34m(self, x, y, s, c, marker, cmap, norm, vmin, vmax, alpha, linewidths, verts, edgecolors, plotnonfinite, **kwargs)\u001b[0m\n\u001b[1;32m   4427\u001b[0m                 \u001b[0moffsets\u001b[0m\u001b[0;34m=\u001b[0m\u001b[0moffsets\u001b[0m\u001b[0;34m,\u001b[0m\u001b[0;34m\u001b[0m\u001b[0;34m\u001b[0m\u001b[0m\n\u001b[1;32m   4428\u001b[0m                 \u001b[0mtransOffset\u001b[0m\u001b[0;34m=\u001b[0m\u001b[0mkwargs\u001b[0m\u001b[0;34m.\u001b[0m\u001b[0mpop\u001b[0m\u001b[0;34m(\u001b[0m\u001b[0;34m'transform'\u001b[0m\u001b[0;34m,\u001b[0m \u001b[0mself\u001b[0m\u001b[0;34m.\u001b[0m\u001b[0mtransData\u001b[0m\u001b[0;34m)\u001b[0m\u001b[0;34m,\u001b[0m\u001b[0;34m\u001b[0m\u001b[0;34m\u001b[0m\u001b[0m\n\u001b[0;32m-> 4429\u001b[0;31m                 \u001b[0malpha\u001b[0m\u001b[0;34m=\u001b[0m\u001b[0malpha\u001b[0m\u001b[0;34m\u001b[0m\u001b[0;34m\u001b[0m\u001b[0m\n\u001b[0m\u001b[1;32m   4430\u001b[0m                 )\n\u001b[1;32m   4431\u001b[0m         \u001b[0mcollection\u001b[0m\u001b[0;34m.\u001b[0m\u001b[0mset_transform\u001b[0m\u001b[0;34m(\u001b[0m\u001b[0mmtransforms\u001b[0m\u001b[0;34m.\u001b[0m\u001b[0mIdentityTransform\u001b[0m\u001b[0;34m(\u001b[0m\u001b[0;34m)\u001b[0m\u001b[0;34m)\u001b[0m\u001b[0;34m\u001b[0m\u001b[0;34m\u001b[0m\u001b[0m\n",
      "\u001b[0;32m~/miniconda3/envs/ham37/lib/python3.7/site-packages/matplotlib/collections.py\u001b[0m in \u001b[0;36m__init__\u001b[0;34m(self, paths, sizes, **kwargs)\u001b[0m\n\u001b[1;32m    912\u001b[0m         \u001b[0mCollection\u001b[0m\u001b[0;34m.\u001b[0m\u001b[0m__init__\u001b[0m\u001b[0;34m(\u001b[0m\u001b[0mself\u001b[0m\u001b[0;34m,\u001b[0m \u001b[0;34m**\u001b[0m\u001b[0mkwargs\u001b[0m\u001b[0;34m)\u001b[0m\u001b[0;34m\u001b[0m\u001b[0;34m\u001b[0m\u001b[0m\n\u001b[1;32m    913\u001b[0m         \u001b[0mself\u001b[0m\u001b[0;34m.\u001b[0m\u001b[0mset_paths\u001b[0m\u001b[0;34m(\u001b[0m\u001b[0mpaths\u001b[0m\u001b[0;34m)\u001b[0m\u001b[0;34m\u001b[0m\u001b[0;34m\u001b[0m\u001b[0m\n\u001b[0;32m--> 914\u001b[0;31m         \u001b[0mself\u001b[0m\u001b[0;34m.\u001b[0m\u001b[0mset_sizes\u001b[0m\u001b[0;34m(\u001b[0m\u001b[0msizes\u001b[0m\u001b[0;34m)\u001b[0m\u001b[0;34m\u001b[0m\u001b[0;34m\u001b[0m\u001b[0m\n\u001b[0m\u001b[1;32m    915\u001b[0m         \u001b[0mself\u001b[0m\u001b[0;34m.\u001b[0m\u001b[0mstale\u001b[0m \u001b[0;34m=\u001b[0m \u001b[0;32mTrue\u001b[0m\u001b[0;34m\u001b[0m\u001b[0;34m\u001b[0m\u001b[0m\n\u001b[1;32m    916\u001b[0m \u001b[0;34m\u001b[0m\u001b[0m\n",
      "\u001b[0;32m~/miniconda3/envs/ham37/lib/python3.7/site-packages/matplotlib/collections.py\u001b[0m in \u001b[0;36mset_sizes\u001b[0;34m(self, sizes, dpi)\u001b[0m\n\u001b[1;32m    884\u001b[0m             \u001b[0mself\u001b[0m\u001b[0;34m.\u001b[0m\u001b[0m_sizes\u001b[0m \u001b[0;34m=\u001b[0m \u001b[0mnp\u001b[0m\u001b[0;34m.\u001b[0m\u001b[0masarray\u001b[0m\u001b[0;34m(\u001b[0m\u001b[0msizes\u001b[0m\u001b[0;34m)\u001b[0m\u001b[0;34m\u001b[0m\u001b[0;34m\u001b[0m\u001b[0m\n\u001b[1;32m    885\u001b[0m             \u001b[0mself\u001b[0m\u001b[0;34m.\u001b[0m\u001b[0m_transforms\u001b[0m \u001b[0;34m=\u001b[0m \u001b[0mnp\u001b[0m\u001b[0;34m.\u001b[0m\u001b[0mzeros\u001b[0m\u001b[0;34m(\u001b[0m\u001b[0;34m(\u001b[0m\u001b[0mlen\u001b[0m\u001b[0;34m(\u001b[0m\u001b[0mself\u001b[0m\u001b[0;34m.\u001b[0m\u001b[0m_sizes\u001b[0m\u001b[0;34m)\u001b[0m\u001b[0;34m,\u001b[0m \u001b[0;36m3\u001b[0m\u001b[0;34m,\u001b[0m \u001b[0;36m3\u001b[0m\u001b[0;34m)\u001b[0m\u001b[0;34m)\u001b[0m\u001b[0;34m\u001b[0m\u001b[0;34m\u001b[0m\u001b[0m\n\u001b[0;32m--> 886\u001b[0;31m             \u001b[0mscale\u001b[0m \u001b[0;34m=\u001b[0m \u001b[0mnp\u001b[0m\u001b[0;34m.\u001b[0m\u001b[0msqrt\u001b[0m\u001b[0;34m(\u001b[0m\u001b[0mself\u001b[0m\u001b[0;34m.\u001b[0m\u001b[0m_sizes\u001b[0m\u001b[0;34m)\u001b[0m \u001b[0;34m*\u001b[0m \u001b[0mdpi\u001b[0m \u001b[0;34m/\u001b[0m \u001b[0;36m72.0\u001b[0m \u001b[0;34m*\u001b[0m \u001b[0mself\u001b[0m\u001b[0;34m.\u001b[0m\u001b[0m_factor\u001b[0m\u001b[0;34m\u001b[0m\u001b[0;34m\u001b[0m\u001b[0m\n\u001b[0m\u001b[1;32m    887\u001b[0m             \u001b[0mself\u001b[0m\u001b[0;34m.\u001b[0m\u001b[0m_transforms\u001b[0m\u001b[0;34m[\u001b[0m\u001b[0;34m:\u001b[0m\u001b[0;34m,\u001b[0m \u001b[0;36m0\u001b[0m\u001b[0;34m,\u001b[0m \u001b[0;36m0\u001b[0m\u001b[0;34m]\u001b[0m \u001b[0;34m=\u001b[0m \u001b[0mscale\u001b[0m\u001b[0;34m\u001b[0m\u001b[0;34m\u001b[0m\u001b[0m\n\u001b[1;32m    888\u001b[0m             \u001b[0mself\u001b[0m\u001b[0;34m.\u001b[0m\u001b[0m_transforms\u001b[0m\u001b[0;34m[\u001b[0m\u001b[0;34m:\u001b[0m\u001b[0;34m,\u001b[0m \u001b[0;36m1\u001b[0m\u001b[0;34m,\u001b[0m \u001b[0;36m1\u001b[0m\u001b[0;34m]\u001b[0m \u001b[0;34m=\u001b[0m \u001b[0mscale\u001b[0m\u001b[0;34m\u001b[0m\u001b[0;34m\u001b[0m\u001b[0m\n",
      "\u001b[0;31mTypeError\u001b[0m: loop of ufunc does not support argument 0 of type NoneType which has no callable sqrt method"
     ]
    }
   ],
   "source": [
    "plt.scatter(np.zeros(len(colors)), np.arange(len(colors)) / len(colors), color=colors)"
   ]
  },
  {
   "cell_type": "markdown",
   "metadata": {},
   "source": [
    "Forward in time corresponds to going from blue to red"
   ]
  },
  {
   "cell_type": "code",
   "execution_count": 18,
   "metadata": {},
   "outputs": [
    {
     "data": {
      "application/vnd.jupyter.widget-view+json": {
       "model_id": "f1f558aef18b489dbe7c039027e912eb",
       "version_major": 2,
       "version_minor": 0
      },
      "text/plain": [
       "Canvas(toolbar=Toolbar(toolitems=[('Home', 'Reset original view', 'home', 'home'), ('Back', 'Back to previous …"
      ]
     },
     "metadata": {},
     "output_type": "display_data"
    },
    {
     "data": {
      "text/plain": [
       "(-0.4547339937506944,\n",
       " 0.5454635235119376,\n",
       " 0.47500027276122037,\n",
       " 1.0250000010467923)"
      ]
     },
     "execution_count": 18,
     "metadata": {},
     "output_type": "execute_result"
    }
   ],
   "source": [
    "fig, ax = plt.subplots(figsize=(5,5))\n",
    "colors = cm.rainbow(np.linspace(0, 1, len(pole_com)))\n",
    "ax.scatter(pole_com[:, 0], pole_com[:, 2], color=colors)\n",
    "ax.axis('equal')"
   ]
  },
  {
   "cell_type": "code",
   "execution_count": 23,
   "metadata": {},
   "outputs": [
    {
     "data": {
      "application/vnd.jupyter.widget-view+json": {
       "model_id": "b1daf370b84d444aa6f36b5ab35b7653",
       "version_major": 2,
       "version_minor": 0
      },
      "text/plain": [
       "Canvas(toolbar=Toolbar(toolitems=[('Home', 'Reset original view', 'home', 'home'), ('Back', 'Back to previous …"
      ]
     },
     "metadata": {},
     "output_type": "display_data"
    },
    {
     "data": {
      "text/plain": [
       "[<matplotlib.lines.Line2D at 0x7fdc6c15ea10>]"
      ]
     },
     "execution_count": 23,
     "metadata": {},
     "output_type": "execute_result"
    }
   ],
   "source": [
    "fig, ax = plt.subplots()\n",
    "ax.plot(pole_com[:, 0], 'r')\n",
    "ax.plot(pole_com[:, 1], 'g')\n",
    "ax.plot(pole_com[:, 2], 'b')"
   ]
  },
  {
   "cell_type": "code",
   "execution_count": 20,
   "metadata": {},
   "outputs": [
    {
     "data": {
      "application/vnd.jupyter.widget-view+json": {
       "model_id": "1ce5d43c7f764cd49178b286b082da7d",
       "version_major": 2,
       "version_minor": 0
      },
      "text/plain": [
       "Canvas(toolbar=Toolbar(toolitems=[('Home', 'Reset original view', 'home', 'home'), ('Back', 'Back to previous …"
      ]
     },
     "metadata": {},
     "output_type": "display_data"
    },
    {
     "data": {
      "text/plain": [
       "[<matplotlib.lines.Line2D at 0x7fdc6c27b6d0>]"
      ]
     },
     "execution_count": 20,
     "metadata": {},
     "output_type": "execute_result"
    }
   ],
   "source": [
    "fig, ax = plt.subplots()\n",
    "ax.plot(cart_com[:, 0], 'r')\n",
    "ax.plot(cart_com[:, 1], 'g')\n",
    "ax.plot(cart_com[:, 2], 'b')"
   ]
  },
  {
   "cell_type": "code",
   "execution_count": 21,
   "metadata": {},
   "outputs": [
    {
     "data": {
      "application/vnd.jupyter.widget-view+json": {
       "model_id": "7462f40c33904d1e9537ea169456fbdc",
       "version_major": 2,
       "version_minor": 0
      },
      "text/plain": [
       "Canvas(toolbar=Toolbar(toolitems=[('Home', 'Reset original view', 'home', 'home'), ('Back', 'Back to previous …"
      ]
     },
     "metadata": {},
     "output_type": "display_data"
    },
    {
     "data": {
      "text/plain": [
       "[<matplotlib.lines.Line2D at 0x7fdc6c1e6b10>]"
      ]
     },
     "execution_count": 21,
     "metadata": {},
     "output_type": "execute_result"
    }
   ],
   "source": [
    "fig, ax = plt.subplots()\n",
    "ax.plot(hinge_anchor[:, 0], 'r')\n",
    "ax.plot(hinge_anchor[:, 1], 'g')\n",
    "ax.plot(hinge_anchor[:, 2], 'b')"
   ]
  },
  {
   "cell_type": "code",
   "execution_count": 22,
   "metadata": {},
   "outputs": [
    {
     "data": {
      "text/plain": [
       "array([0.25, 0.25, 0.25, ..., 0.25, 0.25, 0.25])"
      ]
     },
     "execution_count": 22,
     "metadata": {},
     "output_type": "execute_result"
    }
   ],
   "source": [
    "# Check if constraint is held\n",
    "((pole_com - cart_com)**2).sum(-1)"
   ]
  },
  {
   "cell_type": "code",
   "execution_count": null,
   "metadata": {},
   "outputs": [],
   "source": []
  }
 ],
 "metadata": {
  "kernelspec": {
   "display_name": "Python 3",
   "language": "python",
   "name": "python3"
  },
  "language_info": {
   "codemirror_mode": {
    "name": "ipython",
    "version": 3
   },
   "file_extension": ".py",
   "mimetype": "text/x-python",
   "name": "python",
   "nbconvert_exporter": "python",
   "pygments_lexer": "ipython3",
   "version": "3.7.6"
  }
 },
 "nbformat": 4,
 "nbformat_minor": 4
}
